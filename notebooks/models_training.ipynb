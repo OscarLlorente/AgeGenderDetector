{
 "cells": [
  {
   "cell_type": "code",
   "execution_count": 1,
   "metadata": {
    "pycharm": {
     "name": "#%%\n"
    }
   },
   "outputs": [],
   "source": [
    "import sys\n",
    "sys.path.append('../')"
   ]
  },
  {
   "cell_type": "code",
   "execution_count": 2,
   "metadata": {
    "pycharm": {
     "name": "#%%\n"
    }
   },
   "outputs": [],
   "source": [
    "import torch\n",
    "import torchvision.transforms\n",
    "import itertools\n",
    "import pandas as pd\n",
    "import numpy as np\n",
    "from tqdm.auto import tqdm, trange\n",
    "\n",
    "from models.train_full import train, test\n",
    "from models.models import CNNClassifier, ResNetClassifier\n",
    "from models.utils import set_seed"
   ]
  },
  {
   "cell_type": "code",
   "execution_count": 3,
   "metadata": {
    "pycharm": {
     "name": "#%%\n"
    }
   },
   "outputs": [],
   "source": [
    "def pretty(ld, indent=0):\n",
    "    with open('result.txt', 'w', encoding='utf-8') as file:\n",
    "        for d in tqdm(ld):\n",
    "            file.write('{' + '\\n')\n",
    "            for key, value in d.items():\n",
    "                file.write('\\t' * (indent+1) + str(key) + ':' + str(value) + '\\n')\n",
    "                # file.write('\\t' * (indent+1) + str(key) + '\\n')\n",
    "                # file.write('\\t' * (indent+2) + str(value) + '\\n')\n",
    "            file.write('},\\n')"
   ]
  },
  {
   "cell_type": "code",
   "execution_count": 4,
   "metadata": {
    "pycharm": {
     "name": "#%%\n"
    }
   },
   "outputs": [],
   "source": [
    "do_train = True\n",
    "\n",
    "seed = 4444\n",
    "\n",
    "metric_filter_1 = 'val_mcc'\n",
    "metric_filter_2 = 'val_mae'"
   ]
  },
  {
   "cell_type": "markdown",
   "metadata": {
    "pycharm": {
     "name": "#%% md\n"
    }
   },
   "source": [
    "## 1"
   ]
  },
  {
   "cell_type": "code",
   "execution_count": 5,
   "metadata": {
    "pycharm": {
     "name": "#%%\n"
    }
   },
   "outputs": [],
   "source": [
    "dict_model = dict(\n",
    "    # dictionary with model information\n",
    "    in_channels=[3],\n",
    "    out_channels=[2],\n",
    "    # dim_layers=[[32, 64, 128], [16, 32, 64]],\n",
    "    dim_layers=[[32, 64, 128]],\n",
    "    # block_conv_layers=[3, 5],\n",
    "    block_conv_layers=[3],\n",
    "    residual=[True],\n",
    "    # max_pooling=[True, False],\n",
    "    max_pooling=[True],\n",
    "    transforms=[\n",
    "        (\n",
    "            '400',\n",
    "            torchvision.transforms.Compose([\n",
    "                torchvision.transforms.RandomResizedCrop(size=(400, 400)),\n",
    "                torchvision.transforms.RandomHorizontalFlip(),\n",
    "            ]),\n",
    "            torchvision.transforms.Resize(size=(400, 400)),\n",
    "            # transforms.RandomResizedCrop(size=(400, 400)),\n",
    "            # test varios times over the same data and choose the mean\n",
    "            False,\n",
    "        ),\n",
    "        (\n",
    "            '1',\n",
    "            torchvision.transforms.Compose([\n",
    "                torchvision.transforms.Resize(size=(400, 400)),\n",
    "                torchvision.transforms.RandomHorizontalFlip(),\n",
    "            ]),\n",
    "            torchvision.transforms.Resize(size=(400, 400)),\n",
    "            True,\n",
    "        )\n",
    "    ]\n",
    ")\n",
    "\n",
    "list_model = [dict(zip(dict_model.keys(), k)) for k in itertools.product(*dict_model.values())]"
   ]
  },
  {
   "cell_type": "code",
   "execution_count": null,
   "metadata": {
    "pycharm": {
     "name": "#%%\n"
    }
   },
   "outputs": [],
   "source": [
    "if do_train:\n",
    "    for d in tqdm(list_model):\n",
    "        set_seed(seed)\n",
    "        \n",
    "        d = d.copy()\n",
    "        transforms = d.pop('transforms')\n",
    "\n",
    "        train(\n",
    "            model=CNNClassifier(**d),\n",
    "            dict_model=d,\n",
    "            log_dir=\"./logs_full\",\n",
    "            data_path=\"../data_full\",\n",
    "            save_path=\"./models/saved_full\",\n",
    "            lr=1e-2,\n",
    "            optimizer_name=\"adamw\",\n",
    "            n_epochs=150,\n",
    "            batch_size=32,\n",
    "            num_workers=2,\n",
    "            scheduler_mode='min_mse',\n",
    "            debug_mode=False,\n",
    "            device=None,\n",
    "            steps_save=15,\n",
    "            use_cpu=False,\n",
    "            loss_age_weight=1e-2,\n",
    "            scheduler_patience=30,\n",
    "            train_transforms=transforms[1],\n",
    "            test_transforms=transforms[2],\n",
    "            suffix=transforms[0],\n",
    "            use_cache=transforms[3],\n",
    "        )"
   ]
  },
  {
   "cell_type": "markdown",
   "metadata": {
    "pycharm": {
     "name": "#%% md\n"
    }
   },
   "source": [
    "### Results"
   ]
  },
  {
   "cell_type": "code",
   "execution_count": 6,
   "metadata": {
    "pycharm": {
     "name": "#%%\n"
    }
   },
   "outputs": [
    {
     "name": "stderr",
     "output_type": "stream",
     "text": [
      "100%|██████████| 20/20 [54:07<00:00, 162.37s/it] \n"
     ]
    }
   ],
   "source": [
    "res_test = test(\n",
    "    data_path = \"../data_full\",\n",
    "    save_path = './models/saved_full',\n",
    "    n_runs = 1,\n",
    "    batch_size = 64,\n",
    "    num_workers = 0,\n",
    "    debug_mode = False,\n",
    "    use_cpu = False,\n",
    "    save = True,\n",
    "    verbose = False,\n",
    "    transforms=torchvision.transforms.Resize(size=(400, 400)),\n",
    "    use_cache=True,\n",
    ")"
   ]
  },
  {
   "cell_type": "code",
   "execution_count": 13,
   "metadata": {
    "pycharm": {
     "name": "#%%\n"
    }
   },
   "outputs": [
    {
     "data": {
      "text/plain": [
       "{'in_channels': 3,\n",
       " 'out_channels': 2,\n",
       " 'dim_layers': [32, 64, 128],\n",
       " 'block_conv_layers': 3,\n",
       " 'residual': True,\n",
       " 'max_pooling': True,\n",
       " 'train_lr': 0.01,\n",
       " 'train_optimizer_name': 'adamw',\n",
       " 'train_batch_size': 32,\n",
       " 'train_scheduler_mode': 'min_mse',\n",
       " 'train_loss_age_weight': 0.01,\n",
       " 'train_suffix': '1',\n",
       " 'epoch': 135,\n",
       " 'train_loss': 0.7180283,\n",
       " 'val_mse_age': 131.51015,\n",
       " 'train_acc': 0.9394927024841309,\n",
       " 'val_acc': 0.8674965500831604,\n",
       " 'val_mcc': 0.7339866991692735,\n",
       " 'model_class': 'cnn',\n",
       " 'path_name': '3_2_[32_64_128]_3_True_True_0.01_adamw_32_min_mse_0.01_1_135',\n",
       " 'train_mae': 5.088548,\n",
       " 'val_mae': 8.730115,\n",
       " 'test_mae': 8.740539,\n",
       " 'train_mse': 42.900738,\n",
       " 'val_mse': 131.44864,\n",
       " 'test_mse': 136.33107,\n",
       " 'train_mcc': 0.8789576593001115,\n",
       " 'test_mcc': 0.7426456711701096,\n",
       " 'test_acc': 0.8714404106140137}"
      ]
     },
     "execution_count": 13,
     "metadata": {},
     "output_type": "execute_result"
    }
   ],
   "source": [
    "all = res_test\n",
    "# ascending order\n",
    "sort_idx = np.argsort([k['dict'][metric_filter_1] for k in all])[::-1]\n",
    "all[sort_idx[0]]['dict']"
   ]
  },
  {
   "cell_type": "code",
   "execution_count": 14,
   "metadata": {
    "pycharm": {
     "name": "#%%\n"
    }
   },
   "outputs": [
    {
     "data": {
      "text/plain": [
       "{'in_channels': 3,\n",
       " 'out_channels': 2,\n",
       " 'dim_layers': [32, 64, 128],\n",
       " 'block_conv_layers': 3,\n",
       " 'residual': True,\n",
       " 'max_pooling': True,\n",
       " 'train_lr': 0.01,\n",
       " 'train_optimizer_name': 'adamw',\n",
       " 'train_batch_size': 32,\n",
       " 'train_scheduler_mode': 'min_mse',\n",
       " 'train_loss_age_weight': 0.01,\n",
       " 'train_suffix': '1',\n",
       " 'epoch': 120,\n",
       " 'train_loss': 0.88590217,\n",
       " 'val_mse_age': 127.54852,\n",
       " 'train_acc': 0.9190470576286316,\n",
       " 'val_acc': 0.8652835488319397,\n",
       " 'val_mcc': 0.7305876856123024,\n",
       " 'model_class': 'cnn',\n",
       " 'path_name': '3_2_[32_64_128]_3_True_True_0.01_adamw_32_min_mse_0.01_1_120',\n",
       " 'train_mae': 5.7857547,\n",
       " 'val_mae': 8.650999,\n",
       " 'test_mae': 8.628361,\n",
       " 'train_mse': 56.060917,\n",
       " 'val_mse': 127.48625,\n",
       " 'test_mse': 133.53343,\n",
       " 'train_mcc': 0.8400896585159275,\n",
       " 'test_mcc': 0.7315739561738387,\n",
       " 'test_acc': 0.8645285964012146}"
      ]
     },
     "execution_count": 14,
     "metadata": {},
     "output_type": "execute_result"
    }
   ],
   "source": [
    "sort_idx = np.argsort([k['dict'][metric_filter_2] for k in all])\n",
    "all[sort_idx[0]]['dict']"
   ]
  },
  {
   "cell_type": "markdown",
   "metadata": {
    "pycharm": {
     "name": "#%% md\n"
    }
   },
   "source": [
    "## 2"
   ]
  },
  {
   "cell_type": "code",
   "execution_count": 5,
   "metadata": {
    "pycharm": {
     "name": "#%%\n"
    }
   },
   "outputs": [],
   "source": [
    "dict_model = dict(\n",
    "    # dictionary with model information\n",
    "    in_channels=[3],\n",
    "    out_channels=[2],\n",
    "    dim_layers=[[32, 64, 128], [16, 32, 64]],\n",
    "    block_conv_layers=[3],\n",
    "    residual=[True],\n",
    "    max_pooling=[True, False],\n",
    "    transforms=[\n",
    "        (\n",
    "            '400',\n",
    "            torchvision.transforms.Compose([\n",
    "                torchvision.transforms.Resize(size=(400, 400)),\n",
    "                torchvision.transforms.RandomHorizontalFlip(),\n",
    "            ]),\n",
    "            torchvision.transforms.Resize(size=(400, 400)),\n",
    "            True,\n",
    "        ),\n",
    "    ]\n",
    ")\n",
    "\n",
    "list_model = [dict(zip(dict_model.keys(), k)) for k in itertools.product(*dict_model.values())]"
   ]
  },
  {
   "cell_type": "code",
   "execution_count": null,
   "metadata": {
    "pycharm": {
     "name": "#%%\n"
    }
   },
   "outputs": [],
   "source": [
    "if do_train:\n",
    "    for d in tqdm(list_model):\n",
    "        set_seed(seed)\n",
    "        \n",
    "        d = d.copy()\n",
    "        transforms = d.pop('transforms')\n",
    "\n",
    "        train(\n",
    "            model=CNNClassifier(**d),\n",
    "            dict_model=d,\n",
    "            log_dir=\"./logs_full_2\",\n",
    "            data_path=\"../data_full\",\n",
    "            save_path=\"./models/saved_full_2\",\n",
    "            lr=1e-2,\n",
    "            optimizer_name=\"adamw\",\n",
    "            n_epochs=200,\n",
    "            batch_size=32,\n",
    "            num_workers=3,\n",
    "            scheduler_mode='min_mse',\n",
    "            debug_mode=False,\n",
    "            device=None,\n",
    "            steps_save=15,\n",
    "            use_cpu=False,\n",
    "            loss_age_weight=1e-2,\n",
    "            scheduler_patience=30,\n",
    "            train_transforms=transforms[1],\n",
    "            test_transforms=transforms[2],\n",
    "            suffix=transforms[0],\n",
    "            use_cache=transforms[3],\n",
    "        )"
   ]
  },
  {
   "cell_type": "markdown",
   "metadata": {
    "pycharm": {
     "name": "#%% md\n"
    }
   },
   "source": [
    "### Results"
   ]
  },
  {
   "cell_type": "code",
   "execution_count": 7,
   "metadata": {
    "pycharm": {
     "name": "#%%\n"
    }
   },
   "outputs": [
    {
     "name": "stderr",
     "output_type": "stream",
     "text": [
      "100%|██████████| 26/26 [53:13<00:00, 122.81s/it] \n"
     ]
    }
   ],
   "source": [
    "res_test = test(\n",
    "    data_path = \"../data_full\",\n",
    "    save_path = './models/saved_full_2',\n",
    "    n_runs = 1,\n",
    "    batch_size = 64,\n",
    "    num_workers = 0,\n",
    "    debug_mode = False,\n",
    "    use_cpu = False,\n",
    "    save = True,\n",
    "    verbose = False,\n",
    "    transforms=torchvision.transforms.Resize(size=(400, 400)),\n",
    "    use_cache=True,\n",
    ")"
   ]
  },
  {
   "cell_type": "code",
   "execution_count": 8,
   "metadata": {
    "pycharm": {
     "name": "#%%\n"
    }
   },
   "outputs": [
    {
     "data": {
      "text/plain": [
       "{'in_channels': 3,\n",
       " 'out_channels': 2,\n",
       " 'dim_layers': [32, 64, 128],\n",
       " 'block_conv_layers': 3,\n",
       " 'residual': True,\n",
       " 'max_pooling': True,\n",
       " 'train_lr': 0.01,\n",
       " 'train_optimizer_name': 'adamw',\n",
       " 'train_batch_size': 32,\n",
       " 'train_scheduler_mode': 'min_mse',\n",
       " 'train_loss_age_weight': 0.01,\n",
       " 'train_suffix': '1',\n",
       " 'epoch': 120,\n",
       " 'train_loss': 0.3935543,\n",
       " 'val_mse_age': 154.79866,\n",
       " 'train_acc': 0.9855399131774902,\n",
       " 'val_acc': 0.8511756658554077,\n",
       " 'val_mcc': 0.7011677685312916,\n",
       " 'model_class': 'cnn',\n",
       " 'path_name': '3_2_[32_64_128]_3_True_True_0.01_adamw_32_min_mse_0.01_1_120',\n",
       " 'train_mae': 3.5678704,\n",
       " 'val_mae': 9.337749,\n",
       " 'test_mae': 9.498872,\n",
       " 'train_mse': 20.937126,\n",
       " 'val_mse': 154.50348,\n",
       " 'test_mse': 162.88927,\n",
       " 'train_mcc': 0.9710754062237904,\n",
       " 'test_mcc': 0.7199835661808924,\n",
       " 'test_acc': 0.8598285913467407}"
      ]
     },
     "execution_count": 8,
     "metadata": {},
     "output_type": "execute_result"
    }
   ],
   "source": [
    "all = res_test\n",
    "# ascending order\n",
    "sort_idx = np.argsort([k['dict'][metric_filter_1] for k in all])[::-1]\n",
    "all[sort_idx[0]]['dict']"
   ]
  },
  {
   "cell_type": "code",
   "execution_count": 11,
   "metadata": {
    "pycharm": {
     "name": "#%%\n"
    }
   },
   "outputs": [
    {
     "data": {
      "text/plain": [
       "{'in_channels': 3,\n",
       " 'out_channels': 2,\n",
       " 'dim_layers': [32, 64, 128],\n",
       " 'block_conv_layers': 3,\n",
       " 'residual': True,\n",
       " 'max_pooling': True,\n",
       " 'train_lr': 0.01,\n",
       " 'train_optimizer_name': 'adamw',\n",
       " 'train_batch_size': 32,\n",
       " 'train_scheduler_mode': 'min_mse',\n",
       " 'train_loss_age_weight': 0.01,\n",
       " 'train_suffix': '1',\n",
       " 'epoch': 120,\n",
       " 'train_loss': 0.3935543,\n",
       " 'val_mse_age': 154.79866,\n",
       " 'train_acc': 0.9855399131774902,\n",
       " 'val_acc': 0.8511756658554077,\n",
       " 'val_mcc': 0.7011677685312916,\n",
       " 'model_class': 'cnn',\n",
       " 'path_name': '3_2_[32_64_128]_3_True_True_0.01_adamw_32_min_mse_0.01_1_120',\n",
       " 'train_mae': 3.5678704,\n",
       " 'val_mae': 9.337749,\n",
       " 'test_mae': 9.498872,\n",
       " 'train_mse': 20.937126,\n",
       " 'val_mse': 154.50348,\n",
       " 'test_mse': 162.88927,\n",
       " 'train_mcc': 0.9710754062237904,\n",
       " 'test_mcc': 0.7199835661808924,\n",
       " 'test_acc': 0.8598285913467407}"
      ]
     },
     "execution_count": 11,
     "metadata": {},
     "output_type": "execute_result"
    }
   ],
   "source": [
    "all = res_test\n",
    "# ascending order\n",
    "sort_idx = np.argsort([k['dict'][metric_filter_2] for k in all])\n",
    "all[sort_idx[0]]['dict']"
   ]
  },
  {
   "cell_type": "markdown",
   "metadata": {
    "pycharm": {
     "name": "#%% md\n"
    }
   },
   "source": [
    "## 3"
   ]
  },
  {
   "cell_type": "code",
   "execution_count": 13,
   "metadata": {
    "pycharm": {
     "name": "#%%\n"
    }
   },
   "outputs": [],
   "source": [
    "dict_model = dict(\n",
    "    # dictionary with model information\n",
    "    in_channels=[3],\n",
    "    out_channels=[2],\n",
    "    dim_layers=[[32, 64, 128], [16, 32, 64]],\n",
    "    block_conv_layers=[3, 5],\n",
    "    residual=[True],\n",
    "    max_pooling=[True],\n",
    "    transforms=[\n",
    "        (\n",
    "            '200',\n",
    "            torchvision.transforms.Compose([\n",
    "                torchvision.transforms.Resize(size=(200, 200)),\n",
    "                torchvision.transforms.RandomHorizontalFlip(),\n",
    "            ]),\n",
    "            torchvision.transforms.Resize(size=(200, 200)),\n",
    "            True,\n",
    "        ),\n",
    "    ]\n",
    ")\n",
    "\n",
    "list_model = [dict(zip(dict_model.keys(), k)) for k in itertools.product(*dict_model.values())]"
   ]
  },
  {
   "cell_type": "code",
   "execution_count": 8,
   "metadata": {
    "pycharm": {
     "name": "#%%\n"
    }
   },
   "outputs": [
    {
     "name": "stderr",
     "output_type": "stream",
     "text": [
      "in_channels=3/out_channels=2/dim_layers=[32/64/128]/block_conv_layers=3/residual=True/max_pooling=True/train_lr=0.01/train_optimizer_name=adamw/train_batch_size=32/train_scheduler_mode=min_mse/train_loss_age_weight=0.01/train_suffix=1 -> 142.6066436767578: 100%|██████████| 150/150 [4:32:08<00:00, 108.86s/it]\n",
      "in_channels=3/out_channels=2/dim_layers=[32/64/128]/block_conv_layers=5/residual=True/max_pooling=True/train_lr=0.01/train_optimizer_name=adamw/train_batch_size=32/train_scheduler_mode=min_mse/train_loss_age_weight=0.01/train_suffix=1 -> 136.85464477539062: 100%|██████████| 150/150 [5:57:56<00:00, 143.18s/it]\n",
      "in_channels=3/out_channels=2/dim_layers=[16/32/64]/block_conv_layers=3/residual=True/max_pooling=True/train_lr=0.01/train_optimizer_name=adamw/train_batch_size=32/train_scheduler_mode=min_mse/train_loss_age_weight=0.01/train_suffix=1 -> 164.13406372070312: 100%|██████████| 150/150 [2:21:44<00:00, 56.69s/it]\n",
      "in_channels=3/out_channels=2/dim_layers=[16/32/64]/block_conv_layers=5/residual=True/max_pooling=True/train_lr=0.01/train_optimizer_name=adamw/train_batch_size=32/train_scheduler_mode=min_mse/train_loss_age_weight=0.01/train_suffix=1 -> 153.98013305664062: 100%|██████████| 150/150 [2:54:01<00:00, 69.61s/it]\n",
      "100%|██████████| 4/4 [15:45:55<00:00, 14188.98s/it]  \n"
     ]
    }
   ],
   "source": [
    "if do_train:\n",
    "    for d in tqdm(list_model):\n",
    "        set_seed(seed)\n",
    "        \n",
    "        d = d.copy()\n",
    "        transforms = d.pop('transforms')\n",
    "\n",
    "        train(\n",
    "            model=CNNClassifier(**d),\n",
    "            dict_model=d,\n",
    "            log_dir=\"./logs_full_3\",\n",
    "            data_path=\"../data_full\",\n",
    "            save_path=\"./models/saved_full_3\",\n",
    "            lr=1e-2,\n",
    "            optimizer_name=\"adamw\",\n",
    "            n_epochs=150,\n",
    "            batch_size=32,\n",
    "            num_workers=3,\n",
    "            scheduler_mode='min_mse',\n",
    "            debug_mode=False,\n",
    "            device=None,\n",
    "            steps_save=15,\n",
    "            use_cpu=False,\n",
    "            loss_age_weight=1e-2,\n",
    "            scheduler_patience=50,\n",
    "            train_transforms=transforms[1],\n",
    "            test_transforms=transforms[2],\n",
    "            suffix=transforms[0],\n",
    "            use_cache=transforms[3],\n",
    "        )"
   ]
  },
  {
   "cell_type": "markdown",
   "metadata": {
    "pycharm": {
     "name": "#%% md\n"
    }
   },
   "source": [
    "### Results"
   ]
  },
  {
   "cell_type": "code",
   "execution_count": 16,
   "metadata": {
    "pycharm": {
     "name": "#%%\n"
    }
   },
   "outputs": [
    {
     "name": "stderr",
     "output_type": "stream",
     "text": [
      "100%|██████████| 40/40 [30:18<00:00, 45.47s/it]  \n"
     ]
    }
   ],
   "source": [
    "res_test = test(\n",
    "    data_path = \"../data_full\",\n",
    "    save_path = './models/saved_full_3',\n",
    "    n_runs = 1,\n",
    "    batch_size = 64,\n",
    "    num_workers = 0,\n",
    "    debug_mode = False,\n",
    "    use_cpu = False,\n",
    "    save = True,\n",
    "    verbose = False,\n",
    "    transforms=torchvision.transforms.Resize(size=(200, 200)),\n",
    "    use_cache=True,\n",
    ")"
   ]
  },
  {
   "cell_type": "code",
   "execution_count": 17,
   "metadata": {
    "pycharm": {
     "name": "#%%\n"
    }
   },
   "outputs": [
    {
     "data": {
      "text/plain": [
       "{'in_channels': 3,\n",
       " 'out_channels': 2,\n",
       " 'dim_layers': [32, 64, 128],\n",
       " 'block_conv_layers': 5,\n",
       " 'residual': True,\n",
       " 'max_pooling': True,\n",
       " 'train_lr': 0.01,\n",
       " 'train_optimizer_name': 'adamw',\n",
       " 'train_batch_size': 32,\n",
       " 'train_scheduler_mode': 'min_mse',\n",
       " 'train_loss_age_weight': 0.01,\n",
       " 'train_suffix': '1',\n",
       " 'epoch': 135,\n",
       " 'train_loss': 0.09937081,\n",
       " 'val_mse_age': 136.1627,\n",
       " 'train_acc': 0.9453597068786621,\n",
       " 'val_acc': 0.8691563010215759,\n",
       " 'val_mcc': 0.7393854840096149,\n",
       " 'model_class': 'cnn',\n",
       " 'path_name': '3_2_[32_64_128]_5_True_True_0.01_adamw_32_min_mse_0.01_1_135',\n",
       " 'train_mae': 4.7501335,\n",
       " 'val_mae': 8.544613,\n",
       " 'test_mae': 8.676856,\n",
       " 'train_mse': 61.469128,\n",
       " 'val_mse': 135.64902,\n",
       " 'test_mse': 140.35268,\n",
       " 'train_mcc': 0.8905810254413973,\n",
       " 'test_mcc': 0.7558911097519115,\n",
       " 'test_acc': 0.8777992725372314}"
      ]
     },
     "execution_count": 17,
     "metadata": {},
     "output_type": "execute_result"
    }
   ],
   "source": [
    "all = res_test\n",
    "# ascending order\n",
    "sort_idx = np.argsort([k['dict'][metric_filter_1] for k in all])[::-1]\n",
    "all[sort_idx[0]]['dict']"
   ]
  },
  {
   "cell_type": "code",
   "execution_count": 18,
   "metadata": {
    "pycharm": {
     "name": "#%%\n"
    }
   },
   "outputs": [
    {
     "data": {
      "text/plain": [
       "{'in_channels': 3,\n",
       " 'out_channels': 2,\n",
       " 'dim_layers': [32, 64, 128],\n",
       " 'block_conv_layers': 5,\n",
       " 'residual': True,\n",
       " 'max_pooling': True,\n",
       " 'train_lr': 0.01,\n",
       " 'train_optimizer_name': 'adamw',\n",
       " 'train_batch_size': 32,\n",
       " 'train_scheduler_mode': 'min_mse',\n",
       " 'train_loss_age_weight': 0.01,\n",
       " 'train_suffix': '1',\n",
       " 'epoch': 135,\n",
       " 'train_loss': 0.09937081,\n",
       " 'val_mse_age': 136.1627,\n",
       " 'train_acc': 0.9453597068786621,\n",
       " 'val_acc': 0.8691563010215759,\n",
       " 'val_mcc': 0.7393854840096149,\n",
       " 'model_class': 'cnn',\n",
       " 'path_name': '3_2_[32_64_128]_5_True_True_0.01_adamw_32_min_mse_0.01_1_135',\n",
       " 'train_mae': 4.7501335,\n",
       " 'val_mae': 8.544613,\n",
       " 'test_mae': 8.676856,\n",
       " 'train_mse': 61.469128,\n",
       " 'val_mse': 135.64902,\n",
       " 'test_mse': 140.35268,\n",
       " 'train_mcc': 0.8905810254413973,\n",
       " 'test_mcc': 0.7558911097519115,\n",
       " 'test_acc': 0.8777992725372314}"
      ]
     },
     "execution_count": 18,
     "metadata": {},
     "output_type": "execute_result"
    }
   ],
   "source": [
    "all = res_test\n",
    "# ascending order\n",
    "sort_idx = np.argsort([k['dict'][metric_filter_2] for k in all])\n",
    "all[sort_idx[0]]['dict']"
   ]
  },
  {
   "cell_type": "markdown",
   "metadata": {
    "pycharm": {
     "name": "#%% md\n"
    }
   },
   "source": [
    "## 4"
   ]
  },
  {
   "cell_type": "code",
   "execution_count": 10,
   "metadata": {
    "collapsed": false,
    "pycharm": {
     "name": "#%%\n"
    }
   },
   "outputs": [],
   "source": [
    "resnet_transform = torchvision.transforms.Compose([\n",
    "    torchvision.transforms.Resize(256),\n",
    "    torchvision.transforms.CenterCrop(224),\n",
    "])\n",
    "\n",
    "dict_model = dict(\n",
    "    # dictionary with model information\n",
    "    out_channels=[2],\n",
    "    resnet_arch=['resnet101'],\n",
    "    transforms=[\n",
    "        (\n",
    "            '_',\n",
    "            resnet_transform,\n",
    "            resnet_transform,\n",
    "            True,\n",
    "        ),\n",
    "    ]\n",
    ")\n",
    "\n",
    "list_model = [dict(zip(dict_model.keys(), k)) for k in itertools.product(*dict_model.values())]"
   ]
  },
  {
   "cell_type": "code",
   "execution_count": 11,
   "metadata": {
    "collapsed": false,
    "pycharm": {
     "name": "#%%\n"
    }
   },
   "outputs": [
    {
     "name": "stderr",
     "output_type": "stream",
     "text": [
      "  0%|          | 0/1 [00:00<?, ?it/s]Using cache found in C:\\Users\\vibal/.cache\\torch\\hub\\pytorch_vision_v0.10.0\n",
      "out_channels=2/resnet_arch=resnet101/train_lr=0.01/train_optimizer_name=adamw/train_batch_size=32/train_scheduler_mode=min_mse/train_loss_age_weight=0.01/train_suffix=1 -> 152.07838439941406: 100%|██████████| 150/150 [11:54:47<00:00, 285.92s/it]\n",
      "100%|██████████| 1/1 [11:54:49<00:00, 42889.21s/it]\n"
     ]
    }
   ],
   "source": [
    "if do_train:\n",
    "    for d in tqdm(list_model):\n",
    "        set_seed(seed)\n",
    "        \n",
    "        d = d.copy()\n",
    "        transforms = d.pop('transforms')\n",
    "\n",
    "        train(\n",
    "            model=ResNetClassifier(**d),\n",
    "            dict_model=d,\n",
    "            log_dir=\"./logs_full_4\",\n",
    "            data_path=\"../data_full\",\n",
    "            save_path=\"./models/saved_full_4\",\n",
    "            lr=1e-2,\n",
    "            optimizer_name=\"adamw\",\n",
    "            n_epochs=150,\n",
    "            batch_size=32,\n",
    "            num_workers=3,\n",
    "            scheduler_mode='min_mse',\n",
    "            debug_mode=False,\n",
    "            device=None,\n",
    "            steps_save=1,\n",
    "            use_cpu=False,\n",
    "            loss_age_weight=1e-2,\n",
    "            scheduler_patience=50,\n",
    "            train_transforms=transforms[1],\n",
    "            test_transforms=transforms[2],\n",
    "            suffix=transforms[0],\n",
    "            use_cache=transforms[3],\n",
    "        )"
   ]
  },
  {
   "cell_type": "markdown",
   "metadata": {
    "collapsed": false,
    "pycharm": {
     "name": "#%% md\n"
    }
   },
   "source": [
    "### Results"
   ]
  },
  {
   "cell_type": "code",
   "execution_count": 12,
   "metadata": {
    "collapsed": false,
    "pycharm": {
     "name": "#%%\n"
    }
   },
   "outputs": [
    {
     "name": "stderr",
     "output_type": "stream",
     "text": [
      "  0%|          | 0/150 [00:00<?, ?it/s]Using cache found in C:\\Users\\vibal/.cache\\torch\\hub\\pytorch_vision_v0.10.0\n",
      "  1%|          | 1/150 [02:07<5:17:32, 127.87s/it]Using cache found in C:\\Users\\vibal/.cache\\torch\\hub\\pytorch_vision_v0.10.0\n",
      "  1%|▏         | 2/150 [04:14<5:14:02, 127.31s/it]Using cache found in C:\\Users\\vibal/.cache\\torch\\hub\\pytorch_vision_v0.10.0\n",
      "  2%|▏         | 3/150 [06:21<5:10:42, 126.82s/it]Using cache found in C:\\Users\\vibal/.cache\\torch\\hub\\pytorch_vision_v0.10.0\n",
      "  3%|▎         | 4/150 [08:27<5:08:02, 126.59s/it]Using cache found in C:\\Users\\vibal/.cache\\torch\\hub\\pytorch_vision_v0.10.0\n",
      "  3%|▎         | 5/150 [10:33<5:05:35, 126.45s/it]Using cache found in C:\\Users\\vibal/.cache\\torch\\hub\\pytorch_vision_v0.10.0\n",
      "  4%|▍         | 6/150 [12:39<5:03:19, 126.39s/it]Using cache found in C:\\Users\\vibal/.cache\\torch\\hub\\pytorch_vision_v0.10.0\n",
      "  5%|▍         | 7/150 [14:46<5:01:17, 126.42s/it]Using cache found in C:\\Users\\vibal/.cache\\torch\\hub\\pytorch_vision_v0.10.0\n",
      "  5%|▌         | 8/150 [16:52<4:58:57, 126.32s/it]Using cache found in C:\\Users\\vibal/.cache\\torch\\hub\\pytorch_vision_v0.10.0\n",
      "  6%|▌         | 9/150 [18:58<4:56:38, 126.23s/it]Using cache found in C:\\Users\\vibal/.cache\\torch\\hub\\pytorch_vision_v0.10.0\n",
      "  7%|▋         | 10/150 [21:04<4:54:19, 126.14s/it]Using cache found in C:\\Users\\vibal/.cache\\torch\\hub\\pytorch_vision_v0.10.0\n",
      "  7%|▋         | 11/150 [23:10<4:52:05, 126.08s/it]Using cache found in C:\\Users\\vibal/.cache\\torch\\hub\\pytorch_vision_v0.10.0\n",
      "  8%|▊         | 12/150 [25:15<4:49:44, 125.97s/it]Using cache found in C:\\Users\\vibal/.cache\\torch\\hub\\pytorch_vision_v0.10.0\n",
      "  9%|▊         | 13/150 [27:22<4:48:15, 126.24s/it]Using cache found in C:\\Users\\vibal/.cache\\torch\\hub\\pytorch_vision_v0.10.0\n",
      "  9%|▉         | 14/150 [29:29<4:46:21, 126.33s/it]Using cache found in C:\\Users\\vibal/.cache\\torch\\hub\\pytorch_vision_v0.10.0\n",
      " 10%|█         | 15/150 [31:35<4:44:10, 126.30s/it]Using cache found in C:\\Users\\vibal/.cache\\torch\\hub\\pytorch_vision_v0.10.0\n",
      " 11%|█         | 16/150 [33:41<4:41:47, 126.17s/it]Using cache found in C:\\Users\\vibal/.cache\\torch\\hub\\pytorch_vision_v0.10.0\n",
      " 11%|█▏        | 17/150 [35:47<4:39:28, 126.08s/it]Using cache found in C:\\Users\\vibal/.cache\\torch\\hub\\pytorch_vision_v0.10.0\n",
      " 12%|█▏        | 18/150 [37:53<4:37:20, 126.06s/it]Using cache found in C:\\Users\\vibal/.cache\\torch\\hub\\pytorch_vision_v0.10.0\n",
      " 13%|█▎        | 19/150 [39:59<4:35:08, 126.02s/it]Using cache found in C:\\Users\\vibal/.cache\\torch\\hub\\pytorch_vision_v0.10.0\n",
      " 13%|█▎        | 20/150 [42:05<4:32:54, 125.96s/it]Using cache found in C:\\Users\\vibal/.cache\\torch\\hub\\pytorch_vision_v0.10.0\n",
      " 14%|█▍        | 21/150 [44:11<4:30:54, 126.00s/it]Using cache found in C:\\Users\\vibal/.cache\\torch\\hub\\pytorch_vision_v0.10.0\n",
      " 15%|█▍        | 22/150 [46:17<4:28:46, 125.99s/it]Using cache found in C:\\Users\\vibal/.cache\\torch\\hub\\pytorch_vision_v0.10.0\n",
      " 15%|█▌        | 23/150 [48:23<4:26:39, 125.98s/it]Using cache found in C:\\Users\\vibal/.cache\\torch\\hub\\pytorch_vision_v0.10.0\n",
      " 16%|█▌        | 24/150 [50:29<4:24:32, 125.97s/it]Using cache found in C:\\Users\\vibal/.cache\\torch\\hub\\pytorch_vision_v0.10.0\n",
      " 17%|█▋        | 25/150 [52:34<4:22:19, 125.92s/it]Using cache found in C:\\Users\\vibal/.cache\\torch\\hub\\pytorch_vision_v0.10.0\n",
      " 17%|█▋        | 26/150 [54:40<4:20:09, 125.88s/it]Using cache found in C:\\Users\\vibal/.cache\\torch\\hub\\pytorch_vision_v0.10.0\n",
      " 18%|█▊        | 27/150 [56:46<4:18:02, 125.87s/it]Using cache found in C:\\Users\\vibal/.cache\\torch\\hub\\pytorch_vision_v0.10.0\n",
      " 19%|█▊        | 28/150 [58:52<4:16:02, 125.93s/it]Using cache found in C:\\Users\\vibal/.cache\\torch\\hub\\pytorch_vision_v0.10.0\n",
      " 19%|█▉        | 29/150 [1:00:58<4:13:56, 125.93s/it]Using cache found in C:\\Users\\vibal/.cache\\torch\\hub\\pytorch_vision_v0.10.0\n",
      " 20%|██        | 30/150 [1:03:04<4:11:48, 125.91s/it]Using cache found in C:\\Users\\vibal/.cache\\torch\\hub\\pytorch_vision_v0.10.0\n",
      " 21%|██        | 31/150 [1:05:10<4:09:43, 125.91s/it]Using cache found in C:\\Users\\vibal/.cache\\torch\\hub\\pytorch_vision_v0.10.0\n",
      " 21%|██▏       | 32/150 [1:07:16<4:07:35, 125.89s/it]Using cache found in C:\\Users\\vibal/.cache\\torch\\hub\\pytorch_vision_v0.10.0\n",
      " 22%|██▏       | 33/150 [1:09:21<4:05:24, 125.85s/it]Using cache found in C:\\Users\\vibal/.cache\\torch\\hub\\pytorch_vision_v0.10.0\n",
      " 23%|██▎       | 34/150 [1:11:27<4:03:11, 125.79s/it]Using cache found in C:\\Users\\vibal/.cache\\torch\\hub\\pytorch_vision_v0.10.0\n",
      " 23%|██▎       | 35/150 [1:13:33<4:01:19, 125.91s/it]Using cache found in C:\\Users\\vibal/.cache\\torch\\hub\\pytorch_vision_v0.10.0\n",
      " 24%|██▍       | 36/150 [1:15:39<3:59:09, 125.87s/it]Using cache found in C:\\Users\\vibal/.cache\\torch\\hub\\pytorch_vision_v0.10.0\n",
      " 25%|██▍       | 37/150 [1:17:45<3:57:06, 125.90s/it]Using cache found in C:\\Users\\vibal/.cache\\torch\\hub\\pytorch_vision_v0.10.0\n",
      " 25%|██▌       | 38/150 [1:19:51<3:54:57, 125.87s/it]Using cache found in C:\\Users\\vibal/.cache\\torch\\hub\\pytorch_vision_v0.10.0\n",
      " 26%|██▌       | 39/150 [1:21:57<3:52:49, 125.85s/it]Using cache found in C:\\Users\\vibal/.cache\\torch\\hub\\pytorch_vision_v0.10.0\n",
      " 27%|██▋       | 40/150 [1:24:02<3:50:35, 125.77s/it]Using cache found in C:\\Users\\vibal/.cache\\torch\\hub\\pytorch_vision_v0.10.0\n",
      " 27%|██▋       | 41/150 [1:26:09<3:48:49, 125.96s/it]Using cache found in C:\\Users\\vibal/.cache\\torch\\hub\\pytorch_vision_v0.10.0\n",
      " 28%|██▊       | 42/150 [1:28:15<3:47:04, 126.15s/it]Using cache found in C:\\Users\\vibal/.cache\\torch\\hub\\pytorch_vision_v0.10.0\n",
      " 29%|██▊       | 43/150 [1:30:21<3:45:02, 126.19s/it]Using cache found in C:\\Users\\vibal/.cache\\torch\\hub\\pytorch_vision_v0.10.0\n",
      " 29%|██▉       | 44/150 [1:32:27<3:42:45, 126.09s/it]Using cache found in C:\\Users\\vibal/.cache\\torch\\hub\\pytorch_vision_v0.10.0\n",
      " 30%|███       | 45/150 [1:34:33<3:40:27, 125.98s/it]Using cache found in C:\\Users\\vibal/.cache\\torch\\hub\\pytorch_vision_v0.10.0\n",
      " 31%|███       | 46/150 [1:36:39<3:38:27, 126.03s/it]Using cache found in C:\\Users\\vibal/.cache\\torch\\hub\\pytorch_vision_v0.10.0\n",
      " 31%|███▏      | 47/150 [1:38:45<3:36:14, 125.97s/it]Using cache found in C:\\Users\\vibal/.cache\\torch\\hub\\pytorch_vision_v0.10.0\n",
      " 32%|███▏      | 48/150 [1:40:51<3:33:58, 125.87s/it]Using cache found in C:\\Users\\vibal/.cache\\torch\\hub\\pytorch_vision_v0.10.0\n",
      " 33%|███▎      | 49/150 [1:42:56<3:31:49, 125.84s/it]Using cache found in C:\\Users\\vibal/.cache\\torch\\hub\\pytorch_vision_v0.10.0\n",
      " 33%|███▎      | 50/150 [1:45:02<3:29:52, 125.92s/it]Using cache found in C:\\Users\\vibal/.cache\\torch\\hub\\pytorch_vision_v0.10.0\n",
      " 34%|███▍      | 51/150 [1:47:09<3:27:48, 125.95s/it]Using cache found in C:\\Users\\vibal/.cache\\torch\\hub\\pytorch_vision_v0.10.0\n",
      " 35%|███▍      | 52/150 [1:49:14<3:25:41, 125.93s/it]Using cache found in C:\\Users\\vibal/.cache\\torch\\hub\\pytorch_vision_v0.10.0\n",
      " 35%|███▌      | 53/150 [1:51:20<3:23:29, 125.87s/it]Using cache found in C:\\Users\\vibal/.cache\\torch\\hub\\pytorch_vision_v0.10.0\n",
      " 36%|███▌      | 54/150 [1:53:26<3:21:14, 125.77s/it]Using cache found in C:\\Users\\vibal/.cache\\torch\\hub\\pytorch_vision_v0.10.0\n",
      " 37%|███▋      | 55/150 [1:55:31<3:19:02, 125.71s/it]Using cache found in C:\\Users\\vibal/.cache\\torch\\hub\\pytorch_vision_v0.10.0\n",
      " 37%|███▋      | 56/150 [1:57:37<3:16:55, 125.70s/it]Using cache found in C:\\Users\\vibal/.cache\\torch\\hub\\pytorch_vision_v0.10.0\n",
      " 38%|███▊      | 57/150 [1:59:43<3:15:12, 125.94s/it]Using cache found in C:\\Users\\vibal/.cache\\torch\\hub\\pytorch_vision_v0.10.0\n",
      " 39%|███▊      | 58/150 [2:01:49<3:13:04, 125.91s/it]Using cache found in C:\\Users\\vibal/.cache\\torch\\hub\\pytorch_vision_v0.10.0\n",
      " 39%|███▉      | 59/150 [2:03:56<3:11:08, 126.03s/it]Using cache found in C:\\Users\\vibal/.cache\\torch\\hub\\pytorch_vision_v0.10.0\n",
      " 40%|████      | 60/150 [2:06:02<3:09:01, 126.02s/it]Using cache found in C:\\Users\\vibal/.cache\\torch\\hub\\pytorch_vision_v0.10.0\n",
      " 41%|████      | 61/150 [2:08:08<3:06:56, 126.03s/it]Using cache found in C:\\Users\\vibal/.cache\\torch\\hub\\pytorch_vision_v0.10.0\n",
      " 41%|████▏     | 62/150 [2:10:14<3:04:48, 126.00s/it]Using cache found in C:\\Users\\vibal/.cache\\torch\\hub\\pytorch_vision_v0.10.0\n",
      " 42%|████▏     | 63/150 [2:12:20<3:02:57, 126.18s/it]Using cache found in C:\\Users\\vibal/.cache\\torch\\hub\\pytorch_vision_v0.10.0\n",
      " 43%|████▎     | 64/150 [2:14:26<3:00:53, 126.20s/it]Using cache found in C:\\Users\\vibal/.cache\\torch\\hub\\pytorch_vision_v0.10.0\n",
      " 43%|████▎     | 65/150 [2:16:33<2:58:44, 126.18s/it]Using cache found in C:\\Users\\vibal/.cache\\torch\\hub\\pytorch_vision_v0.10.0\n",
      " 44%|████▍     | 66/150 [2:18:39<2:56:37, 126.16s/it]Using cache found in C:\\Users\\vibal/.cache\\torch\\hub\\pytorch_vision_v0.10.0\n",
      " 45%|████▍     | 67/150 [2:20:44<2:54:23, 126.07s/it]Using cache found in C:\\Users\\vibal/.cache\\torch\\hub\\pytorch_vision_v0.10.0\n",
      " 45%|████▌     | 68/150 [2:22:51<2:52:17, 126.07s/it]Using cache found in C:\\Users\\vibal/.cache\\torch\\hub\\pytorch_vision_v0.10.0\n",
      " 46%|████▌     | 69/150 [2:24:56<2:50:06, 126.00s/it]Using cache found in C:\\Users\\vibal/.cache\\torch\\hub\\pytorch_vision_v0.10.0\n",
      " 47%|████▋     | 70/150 [2:27:03<2:48:04, 126.06s/it]Using cache found in C:\\Users\\vibal/.cache\\torch\\hub\\pytorch_vision_v0.10.0\n",
      " 47%|████▋     | 71/150 [2:29:09<2:46:12, 126.24s/it]Using cache found in C:\\Users\\vibal/.cache\\torch\\hub\\pytorch_vision_v0.10.0\n",
      " 48%|████▊     | 72/150 [2:31:15<2:44:03, 126.19s/it]Using cache found in C:\\Users\\vibal/.cache\\torch\\hub\\pytorch_vision_v0.10.0\n",
      " 49%|████▊     | 73/150 [2:33:21<2:41:51, 126.13s/it]Using cache found in C:\\Users\\vibal/.cache\\torch\\hub\\pytorch_vision_v0.10.0\n",
      " 49%|████▉     | 74/150 [2:35:28<2:39:56, 126.27s/it]Using cache found in C:\\Users\\vibal/.cache\\torch\\hub\\pytorch_vision_v0.10.0\n",
      " 50%|█████     | 75/150 [2:37:34<2:37:49, 126.26s/it]Using cache found in C:\\Users\\vibal/.cache\\torch\\hub\\pytorch_vision_v0.10.0\n",
      " 51%|█████     | 76/150 [2:39:40<2:35:41, 126.23s/it]Using cache found in C:\\Users\\vibal/.cache\\torch\\hub\\pytorch_vision_v0.10.0\n",
      " 51%|█████▏    | 77/150 [2:41:46<2:33:31, 126.18s/it]Using cache found in C:\\Users\\vibal/.cache\\torch\\hub\\pytorch_vision_v0.10.0\n",
      " 52%|█████▏    | 78/150 [2:43:53<2:31:29, 126.24s/it]Using cache found in C:\\Users\\vibal/.cache\\torch\\hub\\pytorch_vision_v0.10.0\n",
      " 53%|█████▎    | 79/150 [2:45:59<2:29:16, 126.14s/it]Using cache found in C:\\Users\\vibal/.cache\\torch\\hub\\pytorch_vision_v0.10.0\n",
      " 53%|█████▎    | 80/150 [2:48:05<2:27:14, 126.21s/it]Using cache found in C:\\Users\\vibal/.cache\\torch\\hub\\pytorch_vision_v0.10.0\n",
      " 54%|█████▍    | 81/150 [2:50:11<2:25:05, 126.17s/it]Using cache found in C:\\Users\\vibal/.cache\\torch\\hub\\pytorch_vision_v0.10.0\n",
      " 55%|█████▍    | 82/150 [2:52:17<2:22:56, 126.13s/it]Using cache found in C:\\Users\\vibal/.cache\\torch\\hub\\pytorch_vision_v0.10.0\n",
      " 55%|█████▌    | 83/150 [2:54:23<2:20:48, 126.09s/it]Using cache found in C:\\Users\\vibal/.cache\\torch\\hub\\pytorch_vision_v0.10.0\n",
      " 56%|█████▌    | 84/150 [2:56:29<2:18:38, 126.04s/it]Using cache found in C:\\Users\\vibal/.cache\\torch\\hub\\pytorch_vision_v0.10.0\n",
      " 57%|█████▋    | 85/150 [2:58:36<2:16:44, 126.22s/it]Using cache found in C:\\Users\\vibal/.cache\\torch\\hub\\pytorch_vision_v0.10.0\n",
      " 57%|█████▋    | 86/150 [3:00:42<2:14:34, 126.17s/it]Using cache found in C:\\Users\\vibal/.cache\\torch\\hub\\pytorch_vision_v0.10.0\n",
      " 58%|█████▊    | 87/150 [3:02:48<2:12:26, 126.14s/it]Using cache found in C:\\Users\\vibal/.cache\\torch\\hub\\pytorch_vision_v0.10.0\n",
      " 59%|█████▊    | 88/150 [3:04:54<2:10:14, 126.04s/it]Using cache found in C:\\Users\\vibal/.cache\\torch\\hub\\pytorch_vision_v0.10.0\n",
      " 59%|█████▉    | 89/150 [3:07:00<2:08:05, 126.00s/it]Using cache found in C:\\Users\\vibal/.cache\\torch\\hub\\pytorch_vision_v0.10.0\n",
      " 60%|██████    | 90/150 [3:09:06<2:05:59, 125.99s/it]Using cache found in C:\\Users\\vibal/.cache\\torch\\hub\\pytorch_vision_v0.10.0\n",
      " 61%|██████    | 91/150 [3:11:11<2:03:48, 125.91s/it]Using cache found in C:\\Users\\vibal/.cache\\torch\\hub\\pytorch_vision_v0.10.0\n",
      " 61%|██████▏   | 92/150 [3:13:17<2:01:38, 125.83s/it]Using cache found in C:\\Users\\vibal/.cache\\torch\\hub\\pytorch_vision_v0.10.0\n",
      " 62%|██████▏   | 93/150 [3:15:23<1:59:39, 125.96s/it]Using cache found in C:\\Users\\vibal/.cache\\torch\\hub\\pytorch_vision_v0.10.0\n",
      " 63%|██████▎   | 94/150 [3:17:29<1:57:32, 125.94s/it]Using cache found in C:\\Users\\vibal/.cache\\torch\\hub\\pytorch_vision_v0.10.0\n",
      " 63%|██████▎   | 95/150 [3:19:35<1:55:30, 126.00s/it]Using cache found in C:\\Users\\vibal/.cache\\torch\\hub\\pytorch_vision_v0.10.0\n",
      " 64%|██████▍   | 96/150 [3:21:42<1:53:33, 126.17s/it]Using cache found in C:\\Users\\vibal/.cache\\torch\\hub\\pytorch_vision_v0.10.0\n",
      " 65%|██████▍   | 97/150 [3:23:47<1:51:20, 126.04s/it]Using cache found in C:\\Users\\vibal/.cache\\torch\\hub\\pytorch_vision_v0.10.0\n",
      " 65%|██████▌   | 98/150 [3:25:53<1:49:09, 125.95s/it]Using cache found in C:\\Users\\vibal/.cache\\torch\\hub\\pytorch_vision_v0.10.0\n",
      " 66%|██████▌   | 99/150 [3:27:59<1:47:07, 126.03s/it]Using cache found in C:\\Users\\vibal/.cache\\torch\\hub\\pytorch_vision_v0.10.0\n",
      " 67%|██████▋   | 100/150 [3:30:06<1:45:06, 126.12s/it]Using cache found in C:\\Users\\vibal/.cache\\torch\\hub\\pytorch_vision_v0.10.0\n",
      " 67%|██████▋   | 101/150 [3:32:12<1:42:59, 126.11s/it]Using cache found in C:\\Users\\vibal/.cache\\torch\\hub\\pytorch_vision_v0.10.0\n",
      " 68%|██████▊   | 102/150 [3:34:18<1:40:49, 126.04s/it]Using cache found in C:\\Users\\vibal/.cache\\torch\\hub\\pytorch_vision_v0.10.0\n",
      " 69%|██████▊   | 103/150 [3:36:24<1:38:42, 126.01s/it]Using cache found in C:\\Users\\vibal/.cache\\torch\\hub\\pytorch_vision_v0.10.0\n",
      " 69%|██████▉   | 104/150 [3:38:30<1:36:35, 126.00s/it]Using cache found in C:\\Users\\vibal/.cache\\torch\\hub\\pytorch_vision_v0.10.0\n",
      " 70%|███████   | 105/150 [3:40:36<1:34:28, 125.96s/it]Using cache found in C:\\Users\\vibal/.cache\\torch\\hub\\pytorch_vision_v0.10.0\n",
      " 71%|███████   | 106/150 [3:42:41<1:32:20, 125.92s/it]Using cache found in C:\\Users\\vibal/.cache\\torch\\hub\\pytorch_vision_v0.10.0\n",
      " 71%|███████▏  | 107/150 [3:44:49<1:30:30, 126.29s/it]Using cache found in C:\\Users\\vibal/.cache\\torch\\hub\\pytorch_vision_v0.10.0\n",
      " 72%|███████▏  | 108/150 [3:46:55<1:28:23, 126.29s/it]Using cache found in C:\\Users\\vibal/.cache\\torch\\hub\\pytorch_vision_v0.10.0\n",
      " 73%|███████▎  | 109/150 [3:49:01<1:26:14, 126.21s/it]Using cache found in C:\\Users\\vibal/.cache\\torch\\hub\\pytorch_vision_v0.10.0\n",
      " 73%|███████▎  | 110/150 [3:51:07<1:24:03, 126.09s/it]Using cache found in C:\\Users\\vibal/.cache\\torch\\hub\\pytorch_vision_v0.10.0\n",
      " 74%|███████▍  | 111/150 [3:53:13<1:21:56, 126.05s/it]Using cache found in C:\\Users\\vibal/.cache\\torch\\hub\\pytorch_vision_v0.10.0\n",
      " 75%|███████▍  | 112/150 [3:55:18<1:19:44, 125.90s/it]Using cache found in C:\\Users\\vibal/.cache\\torch\\hub\\pytorch_vision_v0.10.0\n",
      " 75%|███████▌  | 113/150 [3:57:24<1:17:36, 125.85s/it]Using cache found in C:\\Users\\vibal/.cache\\torch\\hub\\pytorch_vision_v0.10.0\n",
      " 76%|███████▌  | 114/150 [3:59:30<1:15:32, 125.89s/it]Using cache found in C:\\Users\\vibal/.cache\\torch\\hub\\pytorch_vision_v0.10.0\n",
      " 77%|███████▋  | 115/150 [4:01:36<1:13:26, 125.91s/it]Using cache found in C:\\Users\\vibal/.cache\\torch\\hub\\pytorch_vision_v0.10.0\n",
      " 77%|███████▋  | 116/150 [4:03:41<1:11:17, 125.81s/it]Using cache found in C:\\Users\\vibal/.cache\\torch\\hub\\pytorch_vision_v0.10.0\n",
      " 78%|███████▊  | 117/150 [4:05:57<1:10:50, 128.80s/it]Using cache found in C:\\Users\\vibal/.cache\\torch\\hub\\pytorch_vision_v0.10.0\n",
      " 79%|███████▊  | 118/150 [4:08:11<1:09:26, 130.21s/it]Using cache found in C:\\Users\\vibal/.cache\\torch\\hub\\pytorch_vision_v0.10.0\n",
      " 79%|███████▉  | 119/150 [4:10:23<1:07:37, 130.88s/it]Using cache found in C:\\Users\\vibal/.cache\\torch\\hub\\pytorch_vision_v0.10.0\n",
      " 80%|████████  | 120/150 [4:12:33<1:05:19, 130.66s/it]Using cache found in C:\\Users\\vibal/.cache\\torch\\hub\\pytorch_vision_v0.10.0\n",
      " 81%|████████  | 121/150 [4:14:43<1:02:59, 130.32s/it]Using cache found in C:\\Users\\vibal/.cache\\torch\\hub\\pytorch_vision_v0.10.0\n",
      " 81%|████████▏ | 122/150 [4:16:58<1:01:27, 131.70s/it]Using cache found in C:\\Users\\vibal/.cache\\torch\\hub\\pytorch_vision_v0.10.0\n",
      " 82%|████████▏ | 123/150 [4:19:06<58:47, 130.63s/it]  Using cache found in C:\\Users\\vibal/.cache\\torch\\hub\\pytorch_vision_v0.10.0\n",
      " 83%|████████▎ | 124/150 [4:21:12<56:02, 129.31s/it]Using cache found in C:\\Users\\vibal/.cache\\torch\\hub\\pytorch_vision_v0.10.0\n",
      " 83%|████████▎ | 125/150 [4:23:19<53:34, 128.58s/it]Using cache found in C:\\Users\\vibal/.cache\\torch\\hub\\pytorch_vision_v0.10.0\n",
      " 84%|████████▍ | 126/150 [4:25:25<51:08, 127.87s/it]Using cache found in C:\\Users\\vibal/.cache\\torch\\hub\\pytorch_vision_v0.10.0\n",
      " 85%|████████▍ | 127/150 [4:27:31<48:50, 127.40s/it]Using cache found in C:\\Users\\vibal/.cache\\torch\\hub\\pytorch_vision_v0.10.0\n",
      " 85%|████████▌ | 128/150 [4:29:38<46:35, 127.05s/it]Using cache found in C:\\Users\\vibal/.cache\\torch\\hub\\pytorch_vision_v0.10.0\n",
      " 86%|████████▌ | 129/150 [4:31:44<44:23, 126.84s/it]Using cache found in C:\\Users\\vibal/.cache\\torch\\hub\\pytorch_vision_v0.10.0\n",
      " 87%|████████▋ | 130/150 [4:33:52<42:24, 127.25s/it]Using cache found in C:\\Users\\vibal/.cache\\torch\\hub\\pytorch_vision_v0.10.0\n",
      " 87%|████████▋ | 131/150 [4:35:58<40:09, 126.81s/it]Using cache found in C:\\Users\\vibal/.cache\\torch\\hub\\pytorch_vision_v0.10.0\n",
      " 88%|████████▊ | 132/150 [4:38:04<37:56, 126.49s/it]Using cache found in C:\\Users\\vibal/.cache\\torch\\hub\\pytorch_vision_v0.10.0\n",
      " 89%|████████▊ | 133/150 [4:40:10<35:46, 126.26s/it]Using cache found in C:\\Users\\vibal/.cache\\torch\\hub\\pytorch_vision_v0.10.0\n",
      " 89%|████████▉ | 134/150 [4:42:15<33:38, 126.16s/it]Using cache found in C:\\Users\\vibal/.cache\\torch\\hub\\pytorch_vision_v0.10.0\n",
      " 90%|█████████ | 135/150 [4:44:21<31:31, 126.08s/it]Using cache found in C:\\Users\\vibal/.cache\\torch\\hub\\pytorch_vision_v0.10.0\n",
      " 91%|█████████ | 136/150 [4:46:27<29:24, 126.01s/it]Using cache found in C:\\Users\\vibal/.cache\\torch\\hub\\pytorch_vision_v0.10.0\n",
      " 91%|█████████▏| 137/150 [4:48:33<27:17, 125.99s/it]Using cache found in C:\\Users\\vibal/.cache\\torch\\hub\\pytorch_vision_v0.10.0\n",
      " 92%|█████████▏| 138/150 [4:50:39<25:11, 125.99s/it]Using cache found in C:\\Users\\vibal/.cache\\torch\\hub\\pytorch_vision_v0.10.0\n",
      " 93%|█████████▎| 139/150 [4:52:45<23:05, 125.94s/it]Using cache found in C:\\Users\\vibal/.cache\\torch\\hub\\pytorch_vision_v0.10.0\n",
      " 93%|█████████▎| 140/150 [4:54:51<21:00, 126.00s/it]Using cache found in C:\\Users\\vibal/.cache\\torch\\hub\\pytorch_vision_v0.10.0\n",
      " 94%|█████████▍| 141/150 [4:56:57<18:53, 125.95s/it]Using cache found in C:\\Users\\vibal/.cache\\torch\\hub\\pytorch_vision_v0.10.0\n",
      " 95%|█████████▍| 142/150 [4:59:03<16:47, 125.89s/it]Using cache found in C:\\Users\\vibal/.cache\\torch\\hub\\pytorch_vision_v0.10.0\n",
      " 95%|█████████▌| 143/150 [5:01:10<14:44, 126.38s/it]Using cache found in C:\\Users\\vibal/.cache\\torch\\hub\\pytorch_vision_v0.10.0\n",
      " 96%|█████████▌| 144/150 [5:03:18<12:40, 126.67s/it]Using cache found in C:\\Users\\vibal/.cache\\torch\\hub\\pytorch_vision_v0.10.0\n",
      " 97%|█████████▋| 145/150 [5:05:27<10:36, 127.36s/it]Using cache found in C:\\Users\\vibal/.cache\\torch\\hub\\pytorch_vision_v0.10.0\n",
      " 97%|█████████▋| 146/150 [5:07:38<08:34, 128.51s/it]Using cache found in C:\\Users\\vibal/.cache\\torch\\hub\\pytorch_vision_v0.10.0\n",
      " 98%|█████████▊| 147/150 [5:09:48<06:27, 129.03s/it]Using cache found in C:\\Users\\vibal/.cache\\torch\\hub\\pytorch_vision_v0.10.0\n",
      " 99%|█████████▊| 148/150 [5:12:00<04:20, 130.01s/it]Using cache found in C:\\Users\\vibal/.cache\\torch\\hub\\pytorch_vision_v0.10.0\n",
      " 99%|█████████▉| 149/150 [5:14:11<02:10, 130.24s/it]Using cache found in C:\\Users\\vibal/.cache\\torch\\hub\\pytorch_vision_v0.10.0\n",
      "100%|██████████| 150/150 [5:16:30<00:00, 126.61s/it]\n"
     ]
    }
   ],
   "source": [
    "res_test = test(\n",
    "    data_path = \"../data_full\",\n",
    "    save_path = './models/saved_full_4',\n",
    "    n_runs = 1,\n",
    "    batch_size = 32,\n",
    "    num_workers = 0,\n",
    "    debug_mode = False,\n",
    "    use_cpu = False,\n",
    "    save = True,\n",
    "    verbose = False,\n",
    "    transforms=resnet_transform,\n",
    "    use_cache=True,\n",
    ")"
   ]
  },
  {
   "cell_type": "code",
   "execution_count": 13,
   "metadata": {
    "pycharm": {
     "name": "#%%\n"
    }
   },
   "outputs": [
    {
     "data": {
      "text/plain": [
       "{'out_channels': 2,\n",
       " 'resnet_arch': 'resnet101',\n",
       " 'train_lr': 0.01,\n",
       " 'train_optimizer_name': 'adamw',\n",
       " 'train_batch_size': 32,\n",
       " 'train_scheduler_mode': 'min_mse',\n",
       " 'train_loss_age_weight': 0.01,\n",
       " 'train_suffix': '1',\n",
       " 'epoch': 68,\n",
       " 'train_loss': 0.8987771,\n",
       " 'val_mse_age': 135.47906,\n",
       " 'train_acc': 0.932084858417511,\n",
       " 'val_acc': 0.8420470356941223,\n",
       " 'val_mcc': 0.6853306922751463,\n",
       " 'model_class': 'resnet',\n",
       " 'path_name': '2_resnet101_0.01_adamw_32_min_mse_0.01_1_68',\n",
       " 'train_mae': 5.371012,\n",
       " 'val_mae': 8.457273,\n",
       " 'test_mae': 8.868951,\n",
       " 'train_mse': 50.187435,\n",
       " 'val_mse': 135.49007,\n",
       " 'test_mse': 156.02657,\n",
       " 'train_mcc': 0.8644711504109799,\n",
       " 'test_mcc': 0.6769223706565297,\n",
       " 'test_acc': 0.8377107977867126}"
      ]
     },
     "execution_count": 13,
     "metadata": {},
     "output_type": "execute_result"
    }
   ],
   "source": [
    "all = res_test\n",
    "# ascending order\n",
    "sort_idx = np.argsort([k['dict'][metric_filter_1] for k in all])[::-1]\n",
    "all[sort_idx[0]]['dict']"
   ]
  },
  {
   "cell_type": "code",
   "execution_count": 14,
   "metadata": {
    "collapsed": false,
    "pycharm": {
     "name": "#%%\n"
    }
   },
   "outputs": [
    {
     "data": {
      "text/plain": [
       "{'out_channels': 2,\n",
       " 'resnet_arch': 'resnet101',\n",
       " 'train_lr': 0.01,\n",
       " 'train_optimizer_name': 'adamw',\n",
       " 'train_batch_size': 32,\n",
       " 'train_scheduler_mode': 'min_mse',\n",
       " 'train_loss_age_weight': 0.01,\n",
       " 'train_suffix': '1',\n",
       " 'epoch': 140,\n",
       " 'train_loss': 0.6573884,\n",
       " 'val_mse_age': 125.42541,\n",
       " 'train_acc': 0.9457153081893921,\n",
       " 'val_acc': 0.8243430256843567,\n",
       " 'val_mcc': 0.6533936366171971,\n",
       " 'model_class': 'resnet',\n",
       " 'path_name': '2_resnet101_0.01_adamw_32_min_mse_0.01_1_140',\n",
       " 'train_mae': 4.4414434,\n",
       " 'val_mae': 7.8966136,\n",
       " 'test_mae': 8.546943,\n",
       " 'train_mse': 35.74684,\n",
       " 'val_mse': 125.41945,\n",
       " 'test_mse': 152.2089,\n",
       " 'train_mcc': 0.892852102709329,\n",
       " 'test_mcc': 0.6672129250445854,\n",
       " 'test_acc': 0.8316284418106079}"
      ]
     },
     "execution_count": 14,
     "metadata": {},
     "output_type": "execute_result"
    }
   ],
   "source": [
    "all = res_test\n",
    "# ascending order\n",
    "sort_idx = np.argsort([k['dict'][metric_filter_2] for k in all])\n",
    "all[sort_idx[0]]['dict']"
   ]
  },
  {
   "cell_type": "code",
   "execution_count": null,
   "metadata": {
    "collapsed": false,
    "pycharm": {
     "name": "#%%\n"
    }
   },
   "outputs": [],
   "source": []
  }
 ],
 "metadata": {
  "interpreter": {
   "hash": "37be9487e307834247f9cc00a1ec46ceeb3f522b7edf17e3b2d74c6ce713e314"
  },
  "kernelspec": {
   "display_name": "Python 3.9.5 ('venv': venv)",
   "language": "python",
   "name": "python3"
  },
  "language_info": {
   "codemirror_mode": {
    "name": "ipython",
    "version": 3
   },
   "file_extension": ".py",
   "mimetype": "text/x-python",
   "name": "python",
   "nbconvert_exporter": "python",
   "pygments_lexer": "ipython3",
   "version": "3.9.5"
  },
  "orig_nbformat": 4
 },
 "nbformat": 4,
 "nbformat_minor": 2
}