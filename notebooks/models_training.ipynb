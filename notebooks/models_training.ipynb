{
 "cells": [
  {
   "cell_type": "code",
   "execution_count": 9,
   "metadata": {},
   "outputs": [],
   "source": [
    "import sys\n",
    "sys.path.append('../')"
   ]
  },
  {
   "cell_type": "code",
   "execution_count": 10,
   "metadata": {},
   "outputs": [
    {
     "ename": "ModuleNotFoundError",
     "evalue": "No module named 'models.train_full'",
     "output_type": "error",
     "traceback": [
      "\u001b[1;31m---------------------------------------------------------------------------\u001b[0m",
      "\u001b[1;31mModuleNotFoundError\u001b[0m                       Traceback (most recent call last)",
      "\u001b[1;32mc:\\Users\\vibal\\PycharmProjects\\AgeGenderDetector\\notebooks\\models_training.ipynb Cell 2'\u001b[0m in \u001b[0;36m<cell line: 8>\u001b[1;34m()\u001b[0m\n\u001b[0;32m      <a href='vscode-notebook-cell:/c%3A/Users/vibal/PycharmProjects/AgeGenderDetector/notebooks/models_training.ipynb#ch0000001?line=4'>5</a>\u001b[0m \u001b[39mimport\u001b[39;00m \u001b[39mnumpy\u001b[39;00m \u001b[39mas\u001b[39;00m \u001b[39mnp\u001b[39;00m\n\u001b[0;32m      <a href='vscode-notebook-cell:/c%3A/Users/vibal/PycharmProjects/AgeGenderDetector/notebooks/models_training.ipynb#ch0000001?line=5'>6</a>\u001b[0m \u001b[39mfrom\u001b[39;00m \u001b[39mtqdm\u001b[39;00m\u001b[39m.\u001b[39;00m\u001b[39mauto\u001b[39;00m \u001b[39mimport\u001b[39;00m tqdm, trange\n\u001b[1;32m----> <a href='vscode-notebook-cell:/c%3A/Users/vibal/PycharmProjects/AgeGenderDetector/notebooks/models_training.ipynb#ch0000001?line=7'>8</a>\u001b[0m \u001b[39mfrom\u001b[39;00m \u001b[39mmodels\u001b[39;00m\u001b[39m.\u001b[39;00m\u001b[39mtrain_full\u001b[39;00m \u001b[39mimport\u001b[39;00m train, test\n\u001b[0;32m      <a href='vscode-notebook-cell:/c%3A/Users/vibal/PycharmProjects/AgeGenderDetector/notebooks/models_training.ipynb#ch0000001?line=8'>9</a>\u001b[0m \u001b[39mfrom\u001b[39;00m \u001b[39mmodels\u001b[39;00m\u001b[39m.\u001b[39;00m\u001b[39mmodels\u001b[39;00m \u001b[39mimport\u001b[39;00m CNNClassifier, ResNetClassifier\n\u001b[0;32m     <a href='vscode-notebook-cell:/c%3A/Users/vibal/PycharmProjects/AgeGenderDetector/notebooks/models_training.ipynb#ch0000001?line=9'>10</a>\u001b[0m \u001b[39mfrom\u001b[39;00m \u001b[39mmodels\u001b[39;00m\u001b[39m.\u001b[39;00m\u001b[39mutils\u001b[39;00m \u001b[39mimport\u001b[39;00m set_seed\n",
      "\u001b[1;31mModuleNotFoundError\u001b[0m: No module named 'models.train_full'"
     ]
    }
   ],
   "source": [
    "import torch\n",
    "import torchvision.transforms\n",
    "import itertools\n",
    "import pandas as pd\n",
    "import numpy as np\n",
    "from tqdm.auto import tqdm, trange\n",
    "\n",
    "from models.train_full import train, test\n",
    "from models.models import CNNClassifier, ResNetClassifier\n",
    "from models.utils import set_seed"
   ]
  },
  {
   "cell_type": "code",
   "execution_count": null,
   "metadata": {},
   "outputs": [],
   "source": [
    "def pretty(ld, indent=0):\n",
    "    with open('result.txt', 'w', encoding='utf-8') as file:\n",
    "        for d in tqdm(ld):\n",
    "            file.write('{' + '\\n')\n",
    "            for key, value in d.items():\n",
    "                file.write('\\t' * (indent+1) + str(key) + ':' + str(value) + '\\n')\n",
    "                # file.write('\\t' * (indent+1) + str(key) + '\\n')\n",
    "                # file.write('\\t' * (indent+2) + str(value) + '\\n')\n",
    "            file.write('},\\n')"
   ]
  },
  {
   "cell_type": "code",
   "execution_count": 3,
   "metadata": {},
   "outputs": [],
   "source": [
    "do_train = True\n",
    "\n",
    "seed = 4444\n",
    "\n",
    "metric_filter_1 = 'val_mcc'\n",
    "metric_filter_2 = 'val_mae'"
   ]
  },
  {
   "cell_type": "markdown",
   "metadata": {},
   "source": [
    "## 1"
   ]
  },
  {
   "cell_type": "code",
   "execution_count": 5,
   "metadata": {},
   "outputs": [],
   "source": [
    "dict_model = dict(\n",
    "    # dictionary with model information\n",
    "    in_channels=[3],\n",
    "    out_channels=[2],\n",
    "    # dim_layers=[[32, 64, 128], [16, 32, 64]],\n",
    "    dim_layers=[[32, 64, 128]],\n",
    "    # block_conv_layers=[3, 5],\n",
    "    block_conv_layers=[3],\n",
    "    residual=[True],\n",
    "    # max_pooling=[True, False],\n",
    "    max_pooling=[True],\n",
    "    transforms=[\n",
    "        (\n",
    "            '0',\n",
    "            torchvision.transforms.Compose([\n",
    "                torchvision.transforms.RandomResizedCrop(size=(400, 400)),\n",
    "                torchvision.transforms.RandomHorizontalFlip(),\n",
    "            ]),\n",
    "            torchvision.transforms.Resize(size=(400, 400)),\n",
    "            # transforms.RandomResizedCrop(size=(400, 400)),\n",
    "            # test varios times over the same data and choose the mean\n",
    "            False,\n",
    "        ),\n",
    "        (\n",
    "            '1',\n",
    "            torchvision.transforms.Compose([\n",
    "                torchvision.transforms.Resize(size=(400, 400)),\n",
    "                torchvision.transforms.RandomHorizontalFlip(),\n",
    "            ]),\n",
    "            torchvision.transforms.Resize(size=(400, 400)),\n",
    "            True,\n",
    "        )\n",
    "    ]\n",
    ")\n",
    "\n",
    "list_model = [dict(zip(dict_model.keys(), k)) for k in itertools.product(*dict_model.values())]"
   ]
  },
  {
   "cell_type": "code",
   "execution_count": null,
   "metadata": {},
   "outputs": [],
   "source": [
    "if do_train:\n",
    "    for d in tqdm(list_model):\n",
    "        set_seed(seed)\n",
    "        \n",
    "        d = d.copy()\n",
    "        transforms = d.pop('transforms')\n",
    "\n",
    "        train(\n",
    "            model=CNNClassifier(**d),\n",
    "            dict_model=d,\n",
    "            log_dir=\"./logs_full\",\n",
    "            data_path=\"../data_full\",\n",
    "            save_path=\"./models/saved_full\",\n",
    "            lr=1e-2,\n",
    "            optimizer_name=\"adamw\",\n",
    "            n_epochs=150,\n",
    "            batch_size=32,\n",
    "            num_workers=2,\n",
    "            scheduler_mode='min_mse',\n",
    "            debug_mode=False,\n",
    "            device=None,\n",
    "            steps_save=15,\n",
    "            use_cpu=False,\n",
    "            loss_age_weight=1e-2,\n",
    "            scheduler_patience=30,\n",
    "            train_transforms=transforms[1],\n",
    "            test_transforms=transforms[2],\n",
    "            suffix=transforms[0],\n",
    "            use_cache=transforms[3],\n",
    "        )"
   ]
  },
  {
   "cell_type": "markdown",
   "metadata": {},
   "source": [
    "### Results"
   ]
  },
  {
   "cell_type": "code",
   "execution_count": 6,
   "metadata": {},
   "outputs": [
    {
     "name": "stderr",
     "output_type": "stream",
     "text": [
      "100%|██████████| 20/20 [54:07<00:00, 162.37s/it] \n"
     ]
    }
   ],
   "source": [
    "res_test = test(\n",
    "    data_path = \"../data_full\",\n",
    "    save_path = './models/saved_full',\n",
    "    n_runs = 1,\n",
    "    batch_size = 64,\n",
    "    num_workers = 0,\n",
    "    debug_mode = False,\n",
    "    use_cpu = False,\n",
    "    save = True,\n",
    "    verbose = False,\n",
    "    transforms=torchvision.transforms.Resize(size=(400, 400)),\n",
    "    use_cache=True,\n",
    ")"
   ]
  },
  {
   "cell_type": "code",
   "execution_count": 13,
   "metadata": {},
   "outputs": [
    {
     "data": {
      "text/plain": [
       "{'in_channels': 3,\n",
       " 'out_channels': 2,\n",
       " 'dim_layers': [32, 64, 128],\n",
       " 'block_conv_layers': 3,\n",
       " 'residual': True,\n",
       " 'max_pooling': True,\n",
       " 'train_lr': 0.01,\n",
       " 'train_optimizer_name': 'adamw',\n",
       " 'train_batch_size': 32,\n",
       " 'train_scheduler_mode': 'min_mse',\n",
       " 'train_loss_age_weight': 0.01,\n",
       " 'train_suffix': '1',\n",
       " 'epoch': 135,\n",
       " 'train_loss': 0.7180283,\n",
       " 'val_mse_age': 131.51015,\n",
       " 'train_acc': 0.9394927024841309,\n",
       " 'val_acc': 0.8674965500831604,\n",
       " 'val_mcc': 0.7339866991692735,\n",
       " 'model_class': 'cnn',\n",
       " 'path_name': '3_2_[32_64_128]_3_True_True_0.01_adamw_32_min_mse_0.01_1_135',\n",
       " 'train_mae': 5.088548,\n",
       " 'val_mae': 8.730115,\n",
       " 'test_mae': 8.740539,\n",
       " 'train_mse': 42.900738,\n",
       " 'val_mse': 131.44864,\n",
       " 'test_mse': 136.33107,\n",
       " 'train_mcc': 0.8789576593001115,\n",
       " 'test_mcc': 0.7426456711701096,\n",
       " 'test_acc': 0.8714404106140137}"
      ]
     },
     "execution_count": 13,
     "metadata": {},
     "output_type": "execute_result"
    }
   ],
   "source": [
    "all = res_test\n",
    "# ascending order\n",
    "sort_idx = np.argsort([k['dict'][metric_filter_1] for k in all])[::-1]\n",
    "all[sort_idx[0]]['dict']"
   ]
  },
  {
   "cell_type": "code",
   "execution_count": 14,
   "metadata": {},
   "outputs": [
    {
     "data": {
      "text/plain": [
       "{'in_channels': 3,\n",
       " 'out_channels': 2,\n",
       " 'dim_layers': [32, 64, 128],\n",
       " 'block_conv_layers': 3,\n",
       " 'residual': True,\n",
       " 'max_pooling': True,\n",
       " 'train_lr': 0.01,\n",
       " 'train_optimizer_name': 'adamw',\n",
       " 'train_batch_size': 32,\n",
       " 'train_scheduler_mode': 'min_mse',\n",
       " 'train_loss_age_weight': 0.01,\n",
       " 'train_suffix': '1',\n",
       " 'epoch': 120,\n",
       " 'train_loss': 0.88590217,\n",
       " 'val_mse_age': 127.54852,\n",
       " 'train_acc': 0.9190470576286316,\n",
       " 'val_acc': 0.8652835488319397,\n",
       " 'val_mcc': 0.7305876856123024,\n",
       " 'model_class': 'cnn',\n",
       " 'path_name': '3_2_[32_64_128]_3_True_True_0.01_adamw_32_min_mse_0.01_1_120',\n",
       " 'train_mae': 5.7857547,\n",
       " 'val_mae': 8.650999,\n",
       " 'test_mae': 8.628361,\n",
       " 'train_mse': 56.060917,\n",
       " 'val_mse': 127.48625,\n",
       " 'test_mse': 133.53343,\n",
       " 'train_mcc': 0.8400896585159275,\n",
       " 'test_mcc': 0.7315739561738387,\n",
       " 'test_acc': 0.8645285964012146}"
      ]
     },
     "execution_count": 14,
     "metadata": {},
     "output_type": "execute_result"
    }
   ],
   "source": [
    "sort_idx = np.argsort([k['dict'][metric_filter_2] for k in all])\n",
    "all[sort_idx[0]]['dict']"
   ]
  },
  {
   "cell_type": "markdown",
   "metadata": {},
   "source": [
    "## 2"
   ]
  },
  {
   "cell_type": "code",
   "execution_count": 5,
   "metadata": {},
   "outputs": [],
   "source": [
    "dict_model = dict(\n",
    "    # dictionary with model information\n",
    "    in_channels=[3],\n",
    "    out_channels=[2],\n",
    "    dim_layers=[[32, 64, 128], [16, 32, 64]],\n",
    "    block_conv_layers=[3],\n",
    "    residual=[True],\n",
    "    max_pooling=[True, False],\n",
    "    transforms=[\n",
    "        (\n",
    "            '1',\n",
    "            torchvision.transforms.Compose([\n",
    "                torchvision.transforms.Resize(size=(400, 400)),\n",
    "                torchvision.transforms.RandomHorizontalFlip(),\n",
    "            ]),\n",
    "            torchvision.transforms.Resize(size=(400, 400)),\n",
    "            True,\n",
    "        ),\n",
    "    ]\n",
    ")\n",
    "\n",
    "list_model = [dict(zip(dict_model.keys(), k)) for k in itertools.product(*dict_model.values())]"
   ]
  },
  {
   "cell_type": "code",
   "execution_count": null,
   "metadata": {},
   "outputs": [],
   "source": [
    "if do_train:\n",
    "    for d in tqdm(list_model):\n",
    "        set_seed(seed)\n",
    "        \n",
    "        d = d.copy()\n",
    "        transforms = d.pop('transforms')\n",
    "\n",
    "        train(\n",
    "            model=CNNClassifier(**d),\n",
    "            dict_model=d,\n",
    "            log_dir=\"./logs_full_2\",\n",
    "            data_path=\"../data_full\",\n",
    "            save_path=\"./models/saved_full_2\",\n",
    "            lr=1e-2,\n",
    "            optimizer_name=\"adamw\",\n",
    "            n_epochs=200,\n",
    "            batch_size=32,\n",
    "            num_workers=3,\n",
    "            scheduler_mode='min_mse',\n",
    "            debug_mode=False,\n",
    "            device=None,\n",
    "            steps_save=15,\n",
    "            use_cpu=False,\n",
    "            loss_age_weight=1e-2,\n",
    "            scheduler_patience=30,\n",
    "            train_transforms=transforms[1],\n",
    "            test_transforms=transforms[2],\n",
    "            suffix=transforms[0],\n",
    "            use_cache=transforms[3],\n",
    "        )"
   ]
  },
  {
   "cell_type": "markdown",
   "metadata": {},
   "source": [
    "### Results"
   ]
  },
  {
   "cell_type": "code",
   "execution_count": 7,
   "metadata": {},
   "outputs": [
    {
     "name": "stderr",
     "output_type": "stream",
     "text": [
      "100%|██████████| 26/26 [53:13<00:00, 122.81s/it] \n"
     ]
    }
   ],
   "source": [
    "res_test = test(\n",
    "    data_path = \"../data_full\",\n",
    "    save_path = './models/saved_full_2',\n",
    "    n_runs = 1,\n",
    "    batch_size = 64,\n",
    "    num_workers = 0,\n",
    "    debug_mode = False,\n",
    "    use_cpu = False,\n",
    "    save = True,\n",
    "    verbose = False,\n",
    "    transforms=torchvision.transforms.Resize(size=(400, 400)),\n",
    "    use_cache=True,\n",
    ")"
   ]
  },
  {
   "cell_type": "code",
   "execution_count": 8,
   "metadata": {},
   "outputs": [
    {
     "data": {
      "text/plain": [
       "{'in_channels': 3,\n",
       " 'out_channels': 2,\n",
       " 'dim_layers': [32, 64, 128],\n",
       " 'block_conv_layers': 3,\n",
       " 'residual': True,\n",
       " 'max_pooling': True,\n",
       " 'train_lr': 0.01,\n",
       " 'train_optimizer_name': 'adamw',\n",
       " 'train_batch_size': 32,\n",
       " 'train_scheduler_mode': 'min_mse',\n",
       " 'train_loss_age_weight': 0.01,\n",
       " 'train_suffix': '1',\n",
       " 'epoch': 120,\n",
       " 'train_loss': 0.3935543,\n",
       " 'val_mse_age': 154.79866,\n",
       " 'train_acc': 0.9855399131774902,\n",
       " 'val_acc': 0.8511756658554077,\n",
       " 'val_mcc': 0.7011677685312916,\n",
       " 'model_class': 'cnn',\n",
       " 'path_name': '3_2_[32_64_128]_3_True_True_0.01_adamw_32_min_mse_0.01_1_120',\n",
       " 'train_mae': 3.5678704,\n",
       " 'val_mae': 9.337749,\n",
       " 'test_mae': 9.498872,\n",
       " 'train_mse': 20.937126,\n",
       " 'val_mse': 154.50348,\n",
       " 'test_mse': 162.88927,\n",
       " 'train_mcc': 0.9710754062237904,\n",
       " 'test_mcc': 0.7199835661808924,\n",
       " 'test_acc': 0.8598285913467407}"
      ]
     },
     "execution_count": 8,
     "metadata": {},
     "output_type": "execute_result"
    }
   ],
   "source": [
    "all = res_test\n",
    "# ascending order\n",
    "sort_idx = np.argsort([k['dict'][metric_filter_1] for k in all])[::-1]\n",
    "all[sort_idx[0]]['dict']"
   ]
  },
  {
   "cell_type": "code",
   "execution_count": 11,
   "metadata": {},
   "outputs": [
    {
     "data": {
      "text/plain": [
       "{'in_channels': 3,\n",
       " 'out_channels': 2,\n",
       " 'dim_layers': [32, 64, 128],\n",
       " 'block_conv_layers': 3,\n",
       " 'residual': True,\n",
       " 'max_pooling': True,\n",
       " 'train_lr': 0.01,\n",
       " 'train_optimizer_name': 'adamw',\n",
       " 'train_batch_size': 32,\n",
       " 'train_scheduler_mode': 'min_mse',\n",
       " 'train_loss_age_weight': 0.01,\n",
       " 'train_suffix': '1',\n",
       " 'epoch': 120,\n",
       " 'train_loss': 0.3935543,\n",
       " 'val_mse_age': 154.79866,\n",
       " 'train_acc': 0.9855399131774902,\n",
       " 'val_acc': 0.8511756658554077,\n",
       " 'val_mcc': 0.7011677685312916,\n",
       " 'model_class': 'cnn',\n",
       " 'path_name': '3_2_[32_64_128]_3_True_True_0.01_adamw_32_min_mse_0.01_1_120',\n",
       " 'train_mae': 3.5678704,\n",
       " 'val_mae': 9.337749,\n",
       " 'test_mae': 9.498872,\n",
       " 'train_mse': 20.937126,\n",
       " 'val_mse': 154.50348,\n",
       " 'test_mse': 162.88927,\n",
       " 'train_mcc': 0.9710754062237904,\n",
       " 'test_mcc': 0.7199835661808924,\n",
       " 'test_acc': 0.8598285913467407}"
      ]
     },
     "execution_count": 11,
     "metadata": {},
     "output_type": "execute_result"
    }
   ],
   "source": [
    "all = res_test\n",
    "# ascending order\n",
    "sort_idx = np.argsort([k['dict'][metric_filter_2] for k in all])\n",
    "all[sort_idx[0]]['dict']"
   ]
  },
  {
   "cell_type": "markdown",
   "metadata": {},
   "source": [
    "## 3"
   ]
  },
  {
   "cell_type": "code",
   "execution_count": 13,
   "metadata": {},
   "outputs": [],
   "source": [
    "dict_model = dict(\n",
    "    # dictionary with model information\n",
    "    in_channels=[3],\n",
    "    out_channels=[2],\n",
    "    dim_layers=[[32, 64, 128], [16, 32, 64]],\n",
    "    block_conv_layers=[3, 5],\n",
    "    residual=[True],\n",
    "    max_pooling=[True],\n",
    "    transforms=[\n",
    "        (\n",
    "            '1',\n",
    "            torchvision.transforms.Compose([\n",
    "                torchvision.transforms.Resize(size=(200, 200)),\n",
    "                torchvision.transforms.RandomHorizontalFlip(),\n",
    "            ]),\n",
    "            torchvision.transforms.Resize(size=(200, 200)),\n",
    "            True,\n",
    "        ),\n",
    "    ]\n",
    ")\n",
    "\n",
    "list_model = [dict(zip(dict_model.keys(), k)) for k in itertools.product(*dict_model.values())]"
   ]
  },
  {
   "cell_type": "code",
   "execution_count": 8,
   "metadata": {},
   "outputs": [
    {
     "name": "stderr",
     "output_type": "stream",
     "text": [
      "in_channels=3/out_channels=2/dim_layers=[32/64/128]/block_conv_layers=3/residual=True/max_pooling=True/train_lr=0.01/train_optimizer_name=adamw/train_batch_size=32/train_scheduler_mode=min_mse/train_loss_age_weight=0.01/train_suffix=1 -> 142.6066436767578: 100%|██████████| 150/150 [4:32:08<00:00, 108.86s/it]\n",
      "in_channels=3/out_channels=2/dim_layers=[32/64/128]/block_conv_layers=5/residual=True/max_pooling=True/train_lr=0.01/train_optimizer_name=adamw/train_batch_size=32/train_scheduler_mode=min_mse/train_loss_age_weight=0.01/train_suffix=1 -> 136.85464477539062: 100%|██████████| 150/150 [5:57:56<00:00, 143.18s/it]\n",
      "in_channels=3/out_channels=2/dim_layers=[16/32/64]/block_conv_layers=3/residual=True/max_pooling=True/train_lr=0.01/train_optimizer_name=adamw/train_batch_size=32/train_scheduler_mode=min_mse/train_loss_age_weight=0.01/train_suffix=1 -> 164.13406372070312: 100%|██████████| 150/150 [2:21:44<00:00, 56.69s/it]\n",
      "in_channels=3/out_channels=2/dim_layers=[16/32/64]/block_conv_layers=5/residual=True/max_pooling=True/train_lr=0.01/train_optimizer_name=adamw/train_batch_size=32/train_scheduler_mode=min_mse/train_loss_age_weight=0.01/train_suffix=1 -> 153.98013305664062: 100%|██████████| 150/150 [2:54:01<00:00, 69.61s/it]\n",
      "100%|██████████| 4/4 [15:45:55<00:00, 14188.98s/it]  \n"
     ]
    }
   ],
   "source": [
    "if do_train:\n",
    "    for d in tqdm(list_model):\n",
    "        set_seed(seed)\n",
    "        \n",
    "        d = d.copy()\n",
    "        transforms = d.pop('transforms')\n",
    "\n",
    "        train(\n",
    "            model=CNNClassifier(**d),\n",
    "            dict_model=d,\n",
    "            log_dir=\"./logs_full_3\",\n",
    "            data_path=\"../data_full\",\n",
    "            save_path=\"./models/saved_full_3\",\n",
    "            lr=1e-2,\n",
    "            optimizer_name=\"adamw\",\n",
    "            n_epochs=150,\n",
    "            batch_size=32,\n",
    "            num_workers=3,\n",
    "            scheduler_mode='min_mse',\n",
    "            debug_mode=False,\n",
    "            device=None,\n",
    "            steps_save=15,\n",
    "            use_cpu=False,\n",
    "            loss_age_weight=1e-2,\n",
    "            scheduler_patience=50,\n",
    "            train_transforms=transforms[1],\n",
    "            test_transforms=transforms[2],\n",
    "            suffix=transforms[0],\n",
    "            use_cache=transforms[3],\n",
    "        )"
   ]
  },
  {
   "cell_type": "markdown",
   "metadata": {},
   "source": [
    "### Results"
   ]
  },
  {
   "cell_type": "code",
   "execution_count": 16,
   "metadata": {},
   "outputs": [
    {
     "name": "stderr",
     "output_type": "stream",
     "text": [
      "100%|██████████| 40/40 [30:18<00:00, 45.47s/it]  \n"
     ]
    }
   ],
   "source": [
    "res_test = test(\n",
    "    data_path = \"../data_full\",\n",
    "    save_path = './models/saved_full_3',\n",
    "    n_runs = 1,\n",
    "    batch_size = 64,\n",
    "    num_workers = 0,\n",
    "    debug_mode = False,\n",
    "    use_cpu = False,\n",
    "    save = True,\n",
    "    verbose = False,\n",
    "    transforms=torchvision.transforms.Resize(size=(200, 200)),\n",
    "    use_cache=True,\n",
    ")"
   ]
  },
  {
   "cell_type": "code",
   "execution_count": 17,
   "metadata": {},
   "outputs": [
    {
     "data": {
      "text/plain": [
       "{'in_channels': 3,\n",
       " 'out_channels': 2,\n",
       " 'dim_layers': [32, 64, 128],\n",
       " 'block_conv_layers': 5,\n",
       " 'residual': True,\n",
       " 'max_pooling': True,\n",
       " 'train_lr': 0.01,\n",
       " 'train_optimizer_name': 'adamw',\n",
       " 'train_batch_size': 32,\n",
       " 'train_scheduler_mode': 'min_mse',\n",
       " 'train_loss_age_weight': 0.01,\n",
       " 'train_suffix': '1',\n",
       " 'epoch': 135,\n",
       " 'train_loss': 0.09937081,\n",
       " 'val_mse_age': 136.1627,\n",
       " 'train_acc': 0.9453597068786621,\n",
       " 'val_acc': 0.8691563010215759,\n",
       " 'val_mcc': 0.7393854840096149,\n",
       " 'model_class': 'cnn',\n",
       " 'path_name': '3_2_[32_64_128]_5_True_True_0.01_adamw_32_min_mse_0.01_1_135',\n",
       " 'train_mae': 4.7501335,\n",
       " 'val_mae': 8.544613,\n",
       " 'test_mae': 8.676856,\n",
       " 'train_mse': 61.469128,\n",
       " 'val_mse': 135.64902,\n",
       " 'test_mse': 140.35268,\n",
       " 'train_mcc': 0.8905810254413973,\n",
       " 'test_mcc': 0.7558911097519115,\n",
       " 'test_acc': 0.8777992725372314}"
      ]
     },
     "execution_count": 17,
     "metadata": {},
     "output_type": "execute_result"
    }
   ],
   "source": [
    "all = res_test\n",
    "# ascending order\n",
    "sort_idx = np.argsort([k['dict'][metric_filter_1] for k in all])[::-1]\n",
    "all[sort_idx[0]]['dict']"
   ]
  },
  {
   "cell_type": "code",
   "execution_count": 18,
   "metadata": {},
   "outputs": [
    {
     "data": {
      "text/plain": [
       "{'in_channels': 3,\n",
       " 'out_channels': 2,\n",
       " 'dim_layers': [32, 64, 128],\n",
       " 'block_conv_layers': 5,\n",
       " 'residual': True,\n",
       " 'max_pooling': True,\n",
       " 'train_lr': 0.01,\n",
       " 'train_optimizer_name': 'adamw',\n",
       " 'train_batch_size': 32,\n",
       " 'train_scheduler_mode': 'min_mse',\n",
       " 'train_loss_age_weight': 0.01,\n",
       " 'train_suffix': '1',\n",
       " 'epoch': 135,\n",
       " 'train_loss': 0.09937081,\n",
       " 'val_mse_age': 136.1627,\n",
       " 'train_acc': 0.9453597068786621,\n",
       " 'val_acc': 0.8691563010215759,\n",
       " 'val_mcc': 0.7393854840096149,\n",
       " 'model_class': 'cnn',\n",
       " 'path_name': '3_2_[32_64_128]_5_True_True_0.01_adamw_32_min_mse_0.01_1_135',\n",
       " 'train_mae': 4.7501335,\n",
       " 'val_mae': 8.544613,\n",
       " 'test_mae': 8.676856,\n",
       " 'train_mse': 61.469128,\n",
       " 'val_mse': 135.64902,\n",
       " 'test_mse': 140.35268,\n",
       " 'train_mcc': 0.8905810254413973,\n",
       " 'test_mcc': 0.7558911097519115,\n",
       " 'test_acc': 0.8777992725372314}"
      ]
     },
     "execution_count": 18,
     "metadata": {},
     "output_type": "execute_result"
    }
   ],
   "source": [
    "all = res_test\n",
    "# ascending order\n",
    "sort_idx = np.argsort([k['dict'][metric_filter_2] for k in all])\n",
    "all[sort_idx[0]]['dict']"
   ]
  },
  {
   "cell_type": "markdown",
   "metadata": {},
   "source": [
    "## 4"
   ]
  },
  {
   "cell_type": "code",
   "execution_count": 6,
   "metadata": {},
   "outputs": [],
   "source": [
    "resnet_transform = torchvision.transforms.Compose([\n",
    "    torchvision.transforms.Resize(256),\n",
    "    torchvision.transforms.CenterCrop(224),\n",
    "    torchvision.transforms.ToTensor(),\n",
    "])\n",
    "\n",
    "dict_model = dict(\n",
    "    # dictionary with model information\n",
    "    out_channels=[2],\n",
    "    transforms=[\n",
    "        (\n",
    "            '1',\n",
    "            resnet_transform,\n",
    "            resnet_transform,\n",
    "            True,\n",
    "        ),\n",
    "    ]\n",
    ")\n",
    "\n",
    "list_model = [dict(zip(dict_model.keys(), k)) for k in itertools.product(*dict_model.values())]"
   ]
  },
  {
   "cell_type": "code",
   "execution_count": 7,
   "metadata": {},
   "outputs": [
    {
     "name": "stderr",
     "output_type": "stream",
     "text": [
      "  0%|          | 0/1 [00:00<?, ?it/s]\n"
     ]
    },
    {
     "ename": "NameError",
     "evalue": "name 'set_seed' is not defined",
     "output_type": "error",
     "traceback": [
      "\u001b[1;31m---------------------------------------------------------------------------\u001b[0m",
      "\u001b[1;31mNameError\u001b[0m                                 Traceback (most recent call last)",
      "\u001b[1;32mc:\\Users\\vibal\\PycharmProjects\\AgeGenderDetector\\notebooks\\models_training.ipynb Cell 28'\u001b[0m in \u001b[0;36m<cell line: 1>\u001b[1;34m()\u001b[0m\n\u001b[0;32m      <a href='vscode-notebook-cell:/c%3A/Users/vibal/PycharmProjects/AgeGenderDetector/notebooks/models_training.ipynb#ch0000028?line=0'>1</a>\u001b[0m \u001b[39mif\u001b[39;00m do_train:\n\u001b[0;32m      <a href='vscode-notebook-cell:/c%3A/Users/vibal/PycharmProjects/AgeGenderDetector/notebooks/models_training.ipynb#ch0000028?line=1'>2</a>\u001b[0m     \u001b[39mfor\u001b[39;00m d \u001b[39min\u001b[39;00m tqdm(list_model):\n\u001b[1;32m----> <a href='vscode-notebook-cell:/c%3A/Users/vibal/PycharmProjects/AgeGenderDetector/notebooks/models_training.ipynb#ch0000028?line=2'>3</a>\u001b[0m         set_seed(seed)\n\u001b[0;32m      <a href='vscode-notebook-cell:/c%3A/Users/vibal/PycharmProjects/AgeGenderDetector/notebooks/models_training.ipynb#ch0000028?line=4'>5</a>\u001b[0m         d \u001b[39m=\u001b[39m d\u001b[39m.\u001b[39mcopy()\n\u001b[0;32m      <a href='vscode-notebook-cell:/c%3A/Users/vibal/PycharmProjects/AgeGenderDetector/notebooks/models_training.ipynb#ch0000028?line=5'>6</a>\u001b[0m         transforms \u001b[39m=\u001b[39m d\u001b[39m.\u001b[39mpop(\u001b[39m'\u001b[39m\u001b[39mtransforms\u001b[39m\u001b[39m'\u001b[39m)\n",
      "\u001b[1;31mNameError\u001b[0m: name 'set_seed' is not defined"
     ]
    }
   ],
   "source": [
    "if do_train:\n",
    "    for d in tqdm(list_model):\n",
    "        set_seed(seed)\n",
    "        \n",
    "        d = d.copy()\n",
    "        transforms = d.pop('transforms')\n",
    "\n",
    "        train(\n",
    "            model=ResNetClassifier(**d),\n",
    "            dict_model=d,\n",
    "            log_dir=\"./logs_full_4\",\n",
    "            data_path=\"../data_full\",\n",
    "            save_path=\"./models/saved_full_4\",\n",
    "            lr=1e-2,\n",
    "            optimizer_name=\"adamw\",\n",
    "            n_epochs=150,\n",
    "            batch_size=32,\n",
    "            num_workers=3,\n",
    "            scheduler_mode='min_mse',\n",
    "            debug_mode=False,\n",
    "            device=None,\n",
    "            steps_save=15,\n",
    "            use_cpu=False,\n",
    "            loss_age_weight=1e-2,\n",
    "            scheduler_patience=50,\n",
    "            train_transforms=transforms[1],\n",
    "            test_transforms=transforms[2],\n",
    "            suffix=transforms[0],\n",
    "            use_cache=transforms[3],\n",
    "        )"
   ]
  },
  {
   "cell_type": "markdown",
   "metadata": {},
   "source": [
    "### Results"
   ]
  },
  {
   "cell_type": "code",
   "execution_count": null,
   "metadata": {},
   "outputs": [
    {
     "name": "stderr",
     "output_type": "stream",
     "text": [
      "100%|██████████| 40/40 [30:18<00:00, 45.47s/it]  \n"
     ]
    }
   ],
   "source": [
    "res_test = test(\n",
    "    data_path = \"../data_full\",\n",
    "    save_path = './models/saved_full_4',\n",
    "    n_runs = 1,\n",
    "    batch_size = 64,\n",
    "    num_workers = 0,\n",
    "    debug_mode = False,\n",
    "    use_cpu = False,\n",
    "    save = True,\n",
    "    verbose = False,\n",
    "    transforms=resnet_transform,\n",
    "    use_cache=True,\n",
    ")"
   ]
  },
  {
   "cell_type": "code",
   "execution_count": null,
   "metadata": {},
   "outputs": [
    {
     "data": {
      "text/plain": [
       "{'in_channels': 3,\n",
       " 'out_channels': 2,\n",
       " 'dim_layers': [32, 64, 128],\n",
       " 'block_conv_layers': 5,\n",
       " 'residual': True,\n",
       " 'max_pooling': True,\n",
       " 'train_lr': 0.01,\n",
       " 'train_optimizer_name': 'adamw',\n",
       " 'train_batch_size': 32,\n",
       " 'train_scheduler_mode': 'min_mse',\n",
       " 'train_loss_age_weight': 0.01,\n",
       " 'train_suffix': '1',\n",
       " 'epoch': 135,\n",
       " 'train_loss': 0.09937081,\n",
       " 'val_mse_age': 136.1627,\n",
       " 'train_acc': 0.9453597068786621,\n",
       " 'val_acc': 0.8691563010215759,\n",
       " 'val_mcc': 0.7393854840096149,\n",
       " 'model_class': 'cnn',\n",
       " 'path_name': '3_2_[32_64_128]_5_True_True_0.01_adamw_32_min_mse_0.01_1_135',\n",
       " 'train_mae': 4.7501335,\n",
       " 'val_mae': 8.544613,\n",
       " 'test_mae': 8.676856,\n",
       " 'train_mse': 61.469128,\n",
       " 'val_mse': 135.64902,\n",
       " 'test_mse': 140.35268,\n",
       " 'train_mcc': 0.8905810254413973,\n",
       " 'test_mcc': 0.7558911097519115,\n",
       " 'test_acc': 0.8777992725372314}"
      ]
     },
     "metadata": {},
     "output_type": "display_data"
    }
   ],
   "source": [
    "all = res_test\n",
    "# ascending order\n",
    "sort_idx = np.argsort([k['dict'][metric_filter_1] for k in all])[::-1]\n",
    "all[sort_idx[0]]['dict']"
   ]
  },
  {
   "cell_type": "code",
   "execution_count": null,
   "metadata": {},
   "outputs": [
    {
     "data": {
      "text/plain": [
       "{'in_channels': 3,\n",
       " 'out_channels': 2,\n",
       " 'dim_layers': [32, 64, 128],\n",
       " 'block_conv_layers': 5,\n",
       " 'residual': True,\n",
       " 'max_pooling': True,\n",
       " 'train_lr': 0.01,\n",
       " 'train_optimizer_name': 'adamw',\n",
       " 'train_batch_size': 32,\n",
       " 'train_scheduler_mode': 'min_mse',\n",
       " 'train_loss_age_weight': 0.01,\n",
       " 'train_suffix': '1',\n",
       " 'epoch': 135,\n",
       " 'train_loss': 0.09937081,\n",
       " 'val_mse_age': 136.1627,\n",
       " 'train_acc': 0.9453597068786621,\n",
       " 'val_acc': 0.8691563010215759,\n",
       " 'val_mcc': 0.7393854840096149,\n",
       " 'model_class': 'cnn',\n",
       " 'path_name': '3_2_[32_64_128]_5_True_True_0.01_adamw_32_min_mse_0.01_1_135',\n",
       " 'train_mae': 4.7501335,\n",
       " 'val_mae': 8.544613,\n",
       " 'test_mae': 8.676856,\n",
       " 'train_mse': 61.469128,\n",
       " 'val_mse': 135.64902,\n",
       " 'test_mse': 140.35268,\n",
       " 'train_mcc': 0.8905810254413973,\n",
       " 'test_mcc': 0.7558911097519115,\n",
       " 'test_acc': 0.8777992725372314}"
      ]
     },
     "metadata": {},
     "output_type": "display_data"
    }
   ],
   "source": [
    "all = res_test\n",
    "# ascending order\n",
    "sort_idx = np.argsort([k['dict'][metric_filter_2] for k in all])\n",
    "all[sort_idx[0]]['dict']"
   ]
  }
 ],
 "metadata": {
  "interpreter": {
   "hash": "37be9487e307834247f9cc00a1ec46ceeb3f522b7edf17e3b2d74c6ce713e314"
  },
  "kernelspec": {
   "display_name": "Python 3.9.5 ('venv': venv)",
   "language": "python",
   "name": "python3"
  },
  "language_info": {
   "codemirror_mode": {
    "name": "ipython",
    "version": 3
   },
   "file_extension": ".py",
   "mimetype": "text/x-python",
   "name": "python",
   "nbconvert_exporter": "python",
   "pygments_lexer": "ipython3",
   "version": "3.9.5"
  },
  "orig_nbformat": 4
 },
 "nbformat": 4,
 "nbformat_minor": 2
}
